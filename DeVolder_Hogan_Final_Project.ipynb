{
 "cells": [
  {
   "cell_type": "markdown",
   "metadata": {},
   "source": [
    "# Final Project Nike"
   ]
  },
  {
   "cell_type": "markdown",
   "metadata": {},
   "source": [
    "### Brock DeVolder & Mitchell Hogan\n",
    "\n",
    "#### On my honor, as a student, I have neither given nor received unauthorized aid on this academic work."
   ]
  },
  {
   "cell_type": "markdown",
   "metadata": {},
   "source": [
    "## Section 1: Business Questions"
   ]
  },
  {
   "cell_type": "markdown",
   "metadata": {},
   "source": [
    "#### How is Nike using Twitter to reach customers?\n",
    "#### Who is talking about Nike?\n",
    "#### How many “unique” or different users are talking about Nike?\n",
    "#### Are there popular people talking about Nike?\n",
    "#### What kind of products does Nike advertise/sell?\n",
    "#### Which of these products are the most popular?\n",
    "#### Where in the world is Nike being talked about? Only the US?\n",
    "#### What are some of the popular terms & keywords in tweets about Nike?\n",
    "#### How does Nike interact with customers on Twitter?\n",
    "#### What do reviews say about Nike?\n",
    "#### What are popular words/bigrams in the reviews about Nike?"
   ]
  },
  {
   "cell_type": "markdown",
   "metadata": {},
   "source": [
    "## Section 2: Importing Data"
   ]
  },
  {
   "cell_type": "code",
   "execution_count": 1,
   "metadata": {},
   "outputs": [],
   "source": [
    "import csv\n",
    "import pandas as pd\n",
    "import re\n",
    "import json"
   ]
  },
  {
   "cell_type": "markdown",
   "metadata": {},
   "source": [
    "#### Number of all tweets mentioning Nike; real-time tweets"
   ]
  },
  {
   "cell_type": "code",
   "execution_count": 2,
   "metadata": {
    "scrolled": true
   },
   "outputs": [
    {
     "name": "stdout",
     "output_type": "stream",
     "text": [
      "12009\n"
     ]
    }
   ],
   "source": [
    "import json\n",
    "\n",
    "data = []\n",
    "\n",
    "for line in open('nikedata1.json'):\n",
    "    try:\n",
    "        data.append(json.loads(line))\n",
    "    except:\n",
    "        pass\n",
    "\n",
    "print(len(data))"
   ]
  },
  {
   "cell_type": "markdown",
   "metadata": {},
   "source": [
    "#### 3400+ tweets from Nike's account"
   ]
  },
  {
   "cell_type": "code",
   "execution_count": 3,
   "metadata": {
    "scrolled": true
   },
   "outputs": [
    {
     "data": {
      "text/plain": [
       "3432"
      ]
     },
     "execution_count": 3,
     "metadata": {},
     "output_type": "execute_result"
    }
   ],
   "source": [
    "df = pd.read_csv(\"nike_sample_tweets1.csv\")\n",
    "df.head()\n",
    "\n",
    "len(df)"
   ]
  },
  {
   "cell_type": "markdown",
   "metadata": {},
   "source": [
    "## Section: 3 Text Processing Nike Tweets"
   ]
  },
  {
   "cell_type": "code",
   "execution_count": 4,
   "metadata": {},
   "outputs": [],
   "source": [
    "import csv\n",
    "import pandas as pd\n",
    "import re\n",
    "\n",
    "%matplotlib inline\n",
    "import matplotlib.pyplot as plt\n",
    "\n",
    "pd.set_option('display.max_colwidth', -1)"
   ]
  },
  {
   "cell_type": "code",
   "execution_count": 5,
   "metadata": {},
   "outputs": [
    {
     "data": {
      "text/html": [
       "<div>\n",
       "<style scoped>\n",
       "    .dataframe tbody tr th:only-of-type {\n",
       "        vertical-align: middle;\n",
       "    }\n",
       "\n",
       "    .dataframe tbody tr th {\n",
       "        vertical-align: top;\n",
       "    }\n",
       "\n",
       "    .dataframe thead th {\n",
       "        text-align: right;\n",
       "    }\n",
       "</style>\n",
       "<table border=\"1\" class=\"dataframe\">\n",
       "  <thead>\n",
       "    <tr style=\"text-align: right;\">\n",
       "      <th></th>\n",
       "      <th>Username</th>\n",
       "      <th>Tweet I.D.</th>\n",
       "      <th>Timestamp</th>\n",
       "      <th>Tweet</th>\n",
       "    </tr>\n",
       "  </thead>\n",
       "  <tbody>\n",
       "    <tr>\n",
       "      <th>0</th>\n",
       "      <td>Nike</td>\n",
       "      <td>1.123660e+18</td>\n",
       "      <td>5/1/2019 18:48</td>\n",
       "      <td>@landon_p__ Apologies for the confusion, Landon. The Air Force 1 Flyknit 2.0 will release on 6.1. Check out our cur… https://t.co/CCsi0YKIUD</td>\n",
       "    </tr>\n",
       "    <tr>\n",
       "      <th>1</th>\n",
       "      <td>Nike</td>\n",
       "      <td>1.123610e+18</td>\n",
       "      <td>5/1/2019 15:36</td>\n",
       "      <td>@garybohlke Hey Gary, when one door closes another one opens. Meet the new most comfortable shoe you'll own. https://t.co/d784xWH4bA</td>\n",
       "    </tr>\n",
       "    <tr>\n",
       "      <th>2</th>\n",
       "      <td>Nike</td>\n",
       "      <td>1.123510e+18</td>\n",
       "      <td>5/1/2019 8:45</td>\n",
       "      <td>@JamezBlak @slyalubo @amasonic @_Sir_LeRoy @misskucheli We're glad to see you back in action, Heriju. The track is… https://t.co/6fUk3f8fSV</td>\n",
       "    </tr>\n",
       "    <tr>\n",
       "      <th>3</th>\n",
       "      <td>Nike</td>\n",
       "      <td>1.123320e+18</td>\n",
       "      <td>4/30/2019 20:33</td>\n",
       "      <td>@chirag1patelinn Dreaming crazy since day one. 💭</td>\n",
       "    </tr>\n",
       "    <tr>\n",
       "      <th>4</th>\n",
       "      <td>Nike</td>\n",
       "      <td>1.123230e+18</td>\n",
       "      <td>4/30/2019 14:04</td>\n",
       "      <td>@liliteraria It's official. Let's get to work. 🏃‍♀️</td>\n",
       "    </tr>\n",
       "  </tbody>\n",
       "</table>\n",
       "</div>"
      ],
      "text/plain": [
       "  Username    Tweet I.D.        Timestamp  \\\n",
       "0  Nike     1.123660e+18  5/1/2019 18:48    \n",
       "1  Nike     1.123610e+18  5/1/2019 15:36    \n",
       "2  Nike     1.123510e+18  5/1/2019 8:45     \n",
       "3  Nike     1.123320e+18  4/30/2019 20:33   \n",
       "4  Nike     1.123230e+18  4/30/2019 14:04   \n",
       "\n",
       "                                                                                                                                          Tweet  \n",
       "0  @landon_p__ Apologies for the confusion, Landon. The Air Force 1 Flyknit 2.0 will release on 6.1. Check out our cur… https://t.co/CCsi0YKIUD  \n",
       "1  @garybohlke Hey Gary, when one door closes another one opens. Meet the new most comfortable shoe you'll own. https://t.co/d784xWH4bA          \n",
       "2  @JamezBlak @slyalubo @amasonic @_Sir_LeRoy @misskucheli We're glad to see you back in action, Heriju. The track is… https://t.co/6fUk3f8fSV   \n",
       "3  @chirag1patelinn Dreaming crazy since day one. 💭                                                                                              \n",
       "4  @liliteraria It's official. Let's get to work. 🏃‍♀️                                                                                           "
      ]
     },
     "execution_count": 5,
     "metadata": {},
     "output_type": "execute_result"
    }
   ],
   "source": [
    "df = pd.read_csv('nike_sample_tweets1.csv')\n",
    "df.head()"
   ]
  },
  {
   "cell_type": "code",
   "execution_count": 6,
   "metadata": {},
   "outputs": [
    {
     "data": {
      "text/html": [
       "<div>\n",
       "<style scoped>\n",
       "    .dataframe tbody tr th:only-of-type {\n",
       "        vertical-align: middle;\n",
       "    }\n",
       "\n",
       "    .dataframe tbody tr th {\n",
       "        vertical-align: top;\n",
       "    }\n",
       "\n",
       "    .dataframe thead th {\n",
       "        text-align: right;\n",
       "    }\n",
       "</style>\n",
       "<table border=\"1\" class=\"dataframe\">\n",
       "  <thead>\n",
       "    <tr style=\"text-align: right;\">\n",
       "      <th></th>\n",
       "      <th>Username</th>\n",
       "      <th>Tweet I.D.</th>\n",
       "      <th>Timestamp</th>\n",
       "      <th>Tweet</th>\n",
       "    </tr>\n",
       "  </thead>\n",
       "  <tbody>\n",
       "    <tr>\n",
       "      <th>0</th>\n",
       "      <td>Nike</td>\n",
       "      <td>1.123660e+18</td>\n",
       "      <td>5/1/2019 18:48</td>\n",
       "      <td>@landon_p__ apologies for the confusion, landon. the air force 1 flyknit 2.0 will release on 6.1. check out our cur… https://t.co/ccsi0ykiud</td>\n",
       "    </tr>\n",
       "    <tr>\n",
       "      <th>1</th>\n",
       "      <td>Nike</td>\n",
       "      <td>1.123610e+18</td>\n",
       "      <td>5/1/2019 15:36</td>\n",
       "      <td>@garybohlke hey gary, when one door closes another one opens. meet the new most comfortable shoe you'll own. https://t.co/d784xwh4ba</td>\n",
       "    </tr>\n",
       "    <tr>\n",
       "      <th>2</th>\n",
       "      <td>Nike</td>\n",
       "      <td>1.123510e+18</td>\n",
       "      <td>5/1/2019 8:45</td>\n",
       "      <td>@jamezblak @slyalubo @amasonic @_sir_leroy @misskucheli we're glad to see you back in action, heriju. the track is… https://t.co/6fuk3f8fsv</td>\n",
       "    </tr>\n",
       "    <tr>\n",
       "      <th>3</th>\n",
       "      <td>Nike</td>\n",
       "      <td>1.123320e+18</td>\n",
       "      <td>4/30/2019 20:33</td>\n",
       "      <td>@chirag1patelinn dreaming crazy since day one. 💭</td>\n",
       "    </tr>\n",
       "    <tr>\n",
       "      <th>4</th>\n",
       "      <td>Nike</td>\n",
       "      <td>1.123230e+18</td>\n",
       "      <td>4/30/2019 14:04</td>\n",
       "      <td>@liliteraria it's official. let's get to work. 🏃‍♀️</td>\n",
       "    </tr>\n",
       "    <tr>\n",
       "      <th>5</th>\n",
       "      <td>Nike</td>\n",
       "      <td>1.123130e+18</td>\n",
       "      <td>4/30/2019 7:45</td>\n",
       "      <td>@sanchoymoi here to lend a hand. for us to assist with this can you send over an image of the hoodie?</td>\n",
       "    </tr>\n",
       "    <tr>\n",
       "      <th>6</th>\n",
       "      <td>Nike</td>\n",
       "      <td>1.123000e+18</td>\n",
       "      <td>4/29/2019 23:15</td>\n",
       "      <td>@vanessalopicco2 they're here to stay. | https://t.co/z9yxhrirdt</td>\n",
       "    </tr>\n",
       "    <tr>\n",
       "      <th>7</th>\n",
       "      <td>Nike</td>\n",
       "      <td>1.122810e+18</td>\n",
       "      <td>4/29/2019 10:30</td>\n",
       "      <td>@mmatumanuel hola manuel, encantados de ayudarte. ¿podrías enviarnos un privado especificando lo que te está ocurri… https://t.co/tn38w7rfnh</td>\n",
       "    </tr>\n",
       "    <tr>\n",
       "      <th>8</th>\n",
       "      <td>Nike</td>\n",
       "      <td>1.122800e+18</td>\n",
       "      <td>4/29/2019 10:04</td>\n",
       "      <td>@jm_depp hola josé, encantados de ayudarte. nike a partir del 30/04 ya no da soporte al nike sport watch y otras te… https://t.co/0bqeltiwkf</td>\n",
       "    </tr>\n",
       "    <tr>\n",
       "      <th>9</th>\n",
       "      <td>Nike</td>\n",
       "      <td>1.122770e+18</td>\n",
       "      <td>4/29/2019 7:46</td>\n",
       "      <td>@prettyboyyfloyd rest assured, the air force 1 is here to stay.</td>\n",
       "    </tr>\n",
       "  </tbody>\n",
       "</table>\n",
       "</div>"
      ],
      "text/plain": [
       "  Username    Tweet I.D.        Timestamp  \\\n",
       "0  Nike     1.123660e+18  5/1/2019 18:48    \n",
       "1  Nike     1.123610e+18  5/1/2019 15:36    \n",
       "2  Nike     1.123510e+18  5/1/2019 8:45     \n",
       "3  Nike     1.123320e+18  4/30/2019 20:33   \n",
       "4  Nike     1.123230e+18  4/30/2019 14:04   \n",
       "5  Nike     1.123130e+18  4/30/2019 7:45    \n",
       "6  Nike     1.123000e+18  4/29/2019 23:15   \n",
       "7  Nike     1.122810e+18  4/29/2019 10:30   \n",
       "8  Nike     1.122800e+18  4/29/2019 10:04   \n",
       "9  Nike     1.122770e+18  4/29/2019 7:46    \n",
       "\n",
       "                                                                                                                                          Tweet  \n",
       "0  @landon_p__ apologies for the confusion, landon. the air force 1 flyknit 2.0 will release on 6.1. check out our cur… https://t.co/ccsi0ykiud  \n",
       "1  @garybohlke hey gary, when one door closes another one opens. meet the new most comfortable shoe you'll own. https://t.co/d784xwh4ba          \n",
       "2  @jamezblak @slyalubo @amasonic @_sir_leroy @misskucheli we're glad to see you back in action, heriju. the track is… https://t.co/6fuk3f8fsv   \n",
       "3  @chirag1patelinn dreaming crazy since day one. 💭                                                                                              \n",
       "4  @liliteraria it's official. let's get to work. 🏃‍♀️                                                                                           \n",
       "5  @sanchoymoi here to lend a hand. for us to assist with this can you send over an image of the hoodie?                                         \n",
       "6  @vanessalopicco2 they're here to stay. | https://t.co/z9yxhrirdt                                                                              \n",
       "7  @mmatumanuel hola manuel, encantados de ayudarte. ¿podrías enviarnos un privado especificando lo que te está ocurri… https://t.co/tn38w7rfnh  \n",
       "8  @jm_depp hola josé, encantados de ayudarte. nike a partir del 30/04 ya no da soporte al nike sport watch y otras te… https://t.co/0bqeltiwkf  \n",
       "9  @prettyboyyfloyd rest assured, the air force 1 is here to stay.                                                                               "
      ]
     },
     "execution_count": 6,
     "metadata": {},
     "output_type": "execute_result"
    }
   ],
   "source": [
    "df['Tweet'] = df.Tweet.str.lower()\n",
    "df.head(10)"
   ]
  },
  {
   "cell_type": "markdown",
   "metadata": {},
   "source": [
    "#### Which tweets are original or are retweets?"
   ]
  },
  {
   "cell_type": "code",
   "execution_count": 7,
   "metadata": {},
   "outputs": [
    {
     "data": {
      "text/html": [
       "<div>\n",
       "<style scoped>\n",
       "    .dataframe tbody tr th:only-of-type {\n",
       "        vertical-align: middle;\n",
       "    }\n",
       "\n",
       "    .dataframe tbody tr th {\n",
       "        vertical-align: top;\n",
       "    }\n",
       "\n",
       "    .dataframe thead th {\n",
       "        text-align: right;\n",
       "    }\n",
       "</style>\n",
       "<table border=\"1\" class=\"dataframe\">\n",
       "  <thead>\n",
       "    <tr style=\"text-align: right;\">\n",
       "      <th></th>\n",
       "      <th>Username</th>\n",
       "      <th>Tweet I.D.</th>\n",
       "      <th>Timestamp</th>\n",
       "      <th>Tweet</th>\n",
       "      <th>retweet</th>\n",
       "    </tr>\n",
       "  </thead>\n",
       "  <tbody>\n",
       "    <tr>\n",
       "      <th>0</th>\n",
       "      <td>Nike</td>\n",
       "      <td>1.123660e+18</td>\n",
       "      <td>5/1/2019 18:48</td>\n",
       "      <td>@landon_p__ apologies for the confusion, landon. the air force 1 flyknit 2.0 will release on 6.1. check out our cur… https://t.co/ccsi0ykiud</td>\n",
       "      <td>False</td>\n",
       "    </tr>\n",
       "    <tr>\n",
       "      <th>1</th>\n",
       "      <td>Nike</td>\n",
       "      <td>1.123610e+18</td>\n",
       "      <td>5/1/2019 15:36</td>\n",
       "      <td>@garybohlke hey gary, when one door closes another one opens. meet the new most comfortable shoe you'll own. https://t.co/d784xwh4ba</td>\n",
       "      <td>False</td>\n",
       "    </tr>\n",
       "    <tr>\n",
       "      <th>2</th>\n",
       "      <td>Nike</td>\n",
       "      <td>1.123510e+18</td>\n",
       "      <td>5/1/2019 8:45</td>\n",
       "      <td>@jamezblak @slyalubo @amasonic @_sir_leroy @misskucheli we're glad to see you back in action, heriju. the track is… https://t.co/6fuk3f8fsv</td>\n",
       "      <td>False</td>\n",
       "    </tr>\n",
       "    <tr>\n",
       "      <th>3</th>\n",
       "      <td>Nike</td>\n",
       "      <td>1.123320e+18</td>\n",
       "      <td>4/30/2019 20:33</td>\n",
       "      <td>@chirag1patelinn dreaming crazy since day one. 💭</td>\n",
       "      <td>False</td>\n",
       "    </tr>\n",
       "    <tr>\n",
       "      <th>4</th>\n",
       "      <td>Nike</td>\n",
       "      <td>1.123230e+18</td>\n",
       "      <td>4/30/2019 14:04</td>\n",
       "      <td>@liliteraria it's official. let's get to work. 🏃‍♀️</td>\n",
       "      <td>False</td>\n",
       "    </tr>\n",
       "    <tr>\n",
       "      <th>5</th>\n",
       "      <td>Nike</td>\n",
       "      <td>1.123130e+18</td>\n",
       "      <td>4/30/2019 7:45</td>\n",
       "      <td>@sanchoymoi here to lend a hand. for us to assist with this can you send over an image of the hoodie?</td>\n",
       "      <td>False</td>\n",
       "    </tr>\n",
       "    <tr>\n",
       "      <th>6</th>\n",
       "      <td>Nike</td>\n",
       "      <td>1.123000e+18</td>\n",
       "      <td>4/29/2019 23:15</td>\n",
       "      <td>@vanessalopicco2 they're here to stay. | https://t.co/z9yxhrirdt</td>\n",
       "      <td>False</td>\n",
       "    </tr>\n",
       "    <tr>\n",
       "      <th>7</th>\n",
       "      <td>Nike</td>\n",
       "      <td>1.122810e+18</td>\n",
       "      <td>4/29/2019 10:30</td>\n",
       "      <td>@mmatumanuel hola manuel, encantados de ayudarte. ¿podrías enviarnos un privado especificando lo que te está ocurri… https://t.co/tn38w7rfnh</td>\n",
       "      <td>False</td>\n",
       "    </tr>\n",
       "    <tr>\n",
       "      <th>8</th>\n",
       "      <td>Nike</td>\n",
       "      <td>1.122800e+18</td>\n",
       "      <td>4/29/2019 10:04</td>\n",
       "      <td>@jm_depp hola josé, encantados de ayudarte. nike a partir del 30/04 ya no da soporte al nike sport watch y otras te… https://t.co/0bqeltiwkf</td>\n",
       "      <td>False</td>\n",
       "    </tr>\n",
       "    <tr>\n",
       "      <th>9</th>\n",
       "      <td>Nike</td>\n",
       "      <td>1.122770e+18</td>\n",
       "      <td>4/29/2019 7:46</td>\n",
       "      <td>@prettyboyyfloyd rest assured, the air force 1 is here to stay.</td>\n",
       "      <td>False</td>\n",
       "    </tr>\n",
       "  </tbody>\n",
       "</table>\n",
       "</div>"
      ],
      "text/plain": [
       "  Username    Tweet I.D.        Timestamp  \\\n",
       "0  Nike     1.123660e+18  5/1/2019 18:48    \n",
       "1  Nike     1.123610e+18  5/1/2019 15:36    \n",
       "2  Nike     1.123510e+18  5/1/2019 8:45     \n",
       "3  Nike     1.123320e+18  4/30/2019 20:33   \n",
       "4  Nike     1.123230e+18  4/30/2019 14:04   \n",
       "5  Nike     1.123130e+18  4/30/2019 7:45    \n",
       "6  Nike     1.123000e+18  4/29/2019 23:15   \n",
       "7  Nike     1.122810e+18  4/29/2019 10:30   \n",
       "8  Nike     1.122800e+18  4/29/2019 10:04   \n",
       "9  Nike     1.122770e+18  4/29/2019 7:46    \n",
       "\n",
       "                                                                                                                                          Tweet  \\\n",
       "0  @landon_p__ apologies for the confusion, landon. the air force 1 flyknit 2.0 will release on 6.1. check out our cur… https://t.co/ccsi0ykiud   \n",
       "1  @garybohlke hey gary, when one door closes another one opens. meet the new most comfortable shoe you'll own. https://t.co/d784xwh4ba           \n",
       "2  @jamezblak @slyalubo @amasonic @_sir_leroy @misskucheli we're glad to see you back in action, heriju. the track is… https://t.co/6fuk3f8fsv    \n",
       "3  @chirag1patelinn dreaming crazy since day one. 💭                                                                                               \n",
       "4  @liliteraria it's official. let's get to work. 🏃‍♀️                                                                                            \n",
       "5  @sanchoymoi here to lend a hand. for us to assist with this can you send over an image of the hoodie?                                          \n",
       "6  @vanessalopicco2 they're here to stay. | https://t.co/z9yxhrirdt                                                                               \n",
       "7  @mmatumanuel hola manuel, encantados de ayudarte. ¿podrías enviarnos un privado especificando lo que te está ocurri… https://t.co/tn38w7rfnh   \n",
       "8  @jm_depp hola josé, encantados de ayudarte. nike a partir del 30/04 ya no da soporte al nike sport watch y otras te… https://t.co/0bqeltiwkf   \n",
       "9  @prettyboyyfloyd rest assured, the air force 1 is here to stay.                                                                                \n",
       "\n",
       "   retweet  \n",
       "0  False    \n",
       "1  False    \n",
       "2  False    \n",
       "3  False    \n",
       "4  False    \n",
       "5  False    \n",
       "6  False    \n",
       "7  False    \n",
       "8  False    \n",
       "9  False    "
      ]
     },
     "execution_count": 7,
     "metadata": {},
     "output_type": "execute_result"
    }
   ],
   "source": [
    "df['retweet'] = df.Tweet.str.startswith(\"rt\")\n",
    "df.head(10)"
   ]
  },
  {
   "cell_type": "markdown",
   "metadata": {},
   "source": [
    "#### What are the hashtags related with the tweets?"
   ]
  },
  {
   "cell_type": "code",
   "execution_count": 8,
   "metadata": {},
   "outputs": [
    {
     "data": {
      "text/html": [
       "<div>\n",
       "<style scoped>\n",
       "    .dataframe tbody tr th:only-of-type {\n",
       "        vertical-align: middle;\n",
       "    }\n",
       "\n",
       "    .dataframe tbody tr th {\n",
       "        vertical-align: top;\n",
       "    }\n",
       "\n",
       "    .dataframe thead th {\n",
       "        text-align: right;\n",
       "    }\n",
       "</style>\n",
       "<table border=\"1\" class=\"dataframe\">\n",
       "  <thead>\n",
       "    <tr style=\"text-align: right;\">\n",
       "      <th></th>\n",
       "      <th>Username</th>\n",
       "      <th>Tweet I.D.</th>\n",
       "      <th>Timestamp</th>\n",
       "      <th>Tweet</th>\n",
       "      <th>retweet</th>\n",
       "      <th>hashtags</th>\n",
       "    </tr>\n",
       "  </thead>\n",
       "  <tbody>\n",
       "    <tr>\n",
       "      <th>0</th>\n",
       "      <td>Nike</td>\n",
       "      <td>1.123660e+18</td>\n",
       "      <td>5/1/2019 18:48</td>\n",
       "      <td>@landon_p__ apologies for the confusion, landon. the air force 1 flyknit 2.0 will release on 6.1. check out our cur… https://t.co/ccsi0ykiud</td>\n",
       "      <td>False</td>\n",
       "      <td>[]</td>\n",
       "    </tr>\n",
       "    <tr>\n",
       "      <th>1</th>\n",
       "      <td>Nike</td>\n",
       "      <td>1.123610e+18</td>\n",
       "      <td>5/1/2019 15:36</td>\n",
       "      <td>@garybohlke hey gary, when one door closes another one opens. meet the new most comfortable shoe you'll own. https://t.co/d784xwh4ba</td>\n",
       "      <td>False</td>\n",
       "      <td>[]</td>\n",
       "    </tr>\n",
       "    <tr>\n",
       "      <th>2</th>\n",
       "      <td>Nike</td>\n",
       "      <td>1.123510e+18</td>\n",
       "      <td>5/1/2019 8:45</td>\n",
       "      <td>@jamezblak @slyalubo @amasonic @_sir_leroy @misskucheli we're glad to see you back in action, heriju. the track is… https://t.co/6fuk3f8fsv</td>\n",
       "      <td>False</td>\n",
       "      <td>[]</td>\n",
       "    </tr>\n",
       "    <tr>\n",
       "      <th>3</th>\n",
       "      <td>Nike</td>\n",
       "      <td>1.123320e+18</td>\n",
       "      <td>4/30/2019 20:33</td>\n",
       "      <td>@chirag1patelinn dreaming crazy since day one. 💭</td>\n",
       "      <td>False</td>\n",
       "      <td>[]</td>\n",
       "    </tr>\n",
       "    <tr>\n",
       "      <th>4</th>\n",
       "      <td>Nike</td>\n",
       "      <td>1.123230e+18</td>\n",
       "      <td>4/30/2019 14:04</td>\n",
       "      <td>@liliteraria it's official. let's get to work. 🏃‍♀️</td>\n",
       "      <td>False</td>\n",
       "      <td>[]</td>\n",
       "    </tr>\n",
       "    <tr>\n",
       "      <th>5</th>\n",
       "      <td>Nike</td>\n",
       "      <td>1.123130e+18</td>\n",
       "      <td>4/30/2019 7:45</td>\n",
       "      <td>@sanchoymoi here to lend a hand. for us to assist with this can you send over an image of the hoodie?</td>\n",
       "      <td>False</td>\n",
       "      <td>[]</td>\n",
       "    </tr>\n",
       "    <tr>\n",
       "      <th>6</th>\n",
       "      <td>Nike</td>\n",
       "      <td>1.123000e+18</td>\n",
       "      <td>4/29/2019 23:15</td>\n",
       "      <td>@vanessalopicco2 they're here to stay. | https://t.co/z9yxhrirdt</td>\n",
       "      <td>False</td>\n",
       "      <td>[]</td>\n",
       "    </tr>\n",
       "    <tr>\n",
       "      <th>7</th>\n",
       "      <td>Nike</td>\n",
       "      <td>1.122810e+18</td>\n",
       "      <td>4/29/2019 10:30</td>\n",
       "      <td>@mmatumanuel hola manuel, encantados de ayudarte. ¿podrías enviarnos un privado especificando lo que te está ocurri… https://t.co/tn38w7rfnh</td>\n",
       "      <td>False</td>\n",
       "      <td>[]</td>\n",
       "    </tr>\n",
       "    <tr>\n",
       "      <th>8</th>\n",
       "      <td>Nike</td>\n",
       "      <td>1.122800e+18</td>\n",
       "      <td>4/29/2019 10:04</td>\n",
       "      <td>@jm_depp hola josé, encantados de ayudarte. nike a partir del 30/04 ya no da soporte al nike sport watch y otras te… https://t.co/0bqeltiwkf</td>\n",
       "      <td>False</td>\n",
       "      <td>[]</td>\n",
       "    </tr>\n",
       "    <tr>\n",
       "      <th>9</th>\n",
       "      <td>Nike</td>\n",
       "      <td>1.122770e+18</td>\n",
       "      <td>4/29/2019 7:46</td>\n",
       "      <td>@prettyboyyfloyd rest assured, the air force 1 is here to stay.</td>\n",
       "      <td>False</td>\n",
       "      <td>[]</td>\n",
       "    </tr>\n",
       "  </tbody>\n",
       "</table>\n",
       "</div>"
      ],
      "text/plain": [
       "  Username    Tweet I.D.        Timestamp  \\\n",
       "0  Nike     1.123660e+18  5/1/2019 18:48    \n",
       "1  Nike     1.123610e+18  5/1/2019 15:36    \n",
       "2  Nike     1.123510e+18  5/1/2019 8:45     \n",
       "3  Nike     1.123320e+18  4/30/2019 20:33   \n",
       "4  Nike     1.123230e+18  4/30/2019 14:04   \n",
       "5  Nike     1.123130e+18  4/30/2019 7:45    \n",
       "6  Nike     1.123000e+18  4/29/2019 23:15   \n",
       "7  Nike     1.122810e+18  4/29/2019 10:30   \n",
       "8  Nike     1.122800e+18  4/29/2019 10:04   \n",
       "9  Nike     1.122770e+18  4/29/2019 7:46    \n",
       "\n",
       "                                                                                                                                          Tweet  \\\n",
       "0  @landon_p__ apologies for the confusion, landon. the air force 1 flyknit 2.0 will release on 6.1. check out our cur… https://t.co/ccsi0ykiud   \n",
       "1  @garybohlke hey gary, when one door closes another one opens. meet the new most comfortable shoe you'll own. https://t.co/d784xwh4ba           \n",
       "2  @jamezblak @slyalubo @amasonic @_sir_leroy @misskucheli we're glad to see you back in action, heriju. the track is… https://t.co/6fuk3f8fsv    \n",
       "3  @chirag1patelinn dreaming crazy since day one. 💭                                                                                               \n",
       "4  @liliteraria it's official. let's get to work. 🏃‍♀️                                                                                            \n",
       "5  @sanchoymoi here to lend a hand. for us to assist with this can you send over an image of the hoodie?                                          \n",
       "6  @vanessalopicco2 they're here to stay. | https://t.co/z9yxhrirdt                                                                               \n",
       "7  @mmatumanuel hola manuel, encantados de ayudarte. ¿podrías enviarnos un privado especificando lo que te está ocurri… https://t.co/tn38w7rfnh   \n",
       "8  @jm_depp hola josé, encantados de ayudarte. nike a partir del 30/04 ya no da soporte al nike sport watch y otras te… https://t.co/0bqeltiwkf   \n",
       "9  @prettyboyyfloyd rest assured, the air force 1 is here to stay.                                                                                \n",
       "\n",
       "   retweet hashtags  \n",
       "0  False    []       \n",
       "1  False    []       \n",
       "2  False    []       \n",
       "3  False    []       \n",
       "4  False    []       \n",
       "5  False    []       \n",
       "6  False    []       \n",
       "7  False    []       \n",
       "8  False    []       \n",
       "9  False    []       "
      ]
     },
     "execution_count": 8,
     "metadata": {},
     "output_type": "execute_result"
    }
   ],
   "source": [
    "df['hashtags'] = df.Tweet.str.findall(r\"(?<=#)\\w+\")\n",
    "df.head(10)"
   ]
  },
  {
   "cell_type": "markdown",
   "metadata": {},
   "source": [
    "#### Are there any mentions inside of the tweets?"
   ]
  },
  {
   "cell_type": "code",
   "execution_count": 9,
   "metadata": {},
   "outputs": [
    {
     "data": {
      "text/plain": [
       "0    [landon_p__]                                            \n",
       "1    [garybohlke]                                            \n",
       "2    [jamezblak, slyalubo, amasonic, _sir_leroy, misskucheli]\n",
       "3    [chirag1patelinn]                                       \n",
       "4    [liliteraria]                                           \n",
       "Name: Tweet, dtype: object"
      ]
     },
     "execution_count": 9,
     "metadata": {},
     "output_type": "execute_result"
    }
   ],
   "source": [
    "df.Tweet.str.findall(\"(?<=@)\\w+\").head()"
   ]
  },
  {
   "cell_type": "code",
   "execution_count": 10,
   "metadata": {},
   "outputs": [
    {
     "data": {
      "text/html": [
       "<div>\n",
       "<style scoped>\n",
       "    .dataframe tbody tr th:only-of-type {\n",
       "        vertical-align: middle;\n",
       "    }\n",
       "\n",
       "    .dataframe tbody tr th {\n",
       "        vertical-align: top;\n",
       "    }\n",
       "\n",
       "    .dataframe thead th {\n",
       "        text-align: right;\n",
       "    }\n",
       "</style>\n",
       "<table border=\"1\" class=\"dataframe\">\n",
       "  <thead>\n",
       "    <tr style=\"text-align: right;\">\n",
       "      <th></th>\n",
       "      <th>Username</th>\n",
       "      <th>Tweet I.D.</th>\n",
       "      <th>Timestamp</th>\n",
       "      <th>Tweet</th>\n",
       "      <th>retweet</th>\n",
       "      <th>hashtags</th>\n",
       "      <th>mentions</th>\n",
       "    </tr>\n",
       "  </thead>\n",
       "  <tbody>\n",
       "    <tr>\n",
       "      <th>0</th>\n",
       "      <td>Nike</td>\n",
       "      <td>1.123660e+18</td>\n",
       "      <td>5/1/2019 18:48</td>\n",
       "      <td>@landon_p__ apologies for the confusion, landon. the air force 1 flyknit 2.0 will release on 6.1. check out our cur… https://t.co/ccsi0ykiud</td>\n",
       "      <td>False</td>\n",
       "      <td>[]</td>\n",
       "      <td>[landon_p__]</td>\n",
       "    </tr>\n",
       "    <tr>\n",
       "      <th>1</th>\n",
       "      <td>Nike</td>\n",
       "      <td>1.123610e+18</td>\n",
       "      <td>5/1/2019 15:36</td>\n",
       "      <td>@garybohlke hey gary, when one door closes another one opens. meet the new most comfortable shoe you'll own. https://t.co/d784xwh4ba</td>\n",
       "      <td>False</td>\n",
       "      <td>[]</td>\n",
       "      <td>[garybohlke]</td>\n",
       "    </tr>\n",
       "    <tr>\n",
       "      <th>2</th>\n",
       "      <td>Nike</td>\n",
       "      <td>1.123510e+18</td>\n",
       "      <td>5/1/2019 8:45</td>\n",
       "      <td>@jamezblak @slyalubo @amasonic @_sir_leroy @misskucheli we're glad to see you back in action, heriju. the track is… https://t.co/6fuk3f8fsv</td>\n",
       "      <td>False</td>\n",
       "      <td>[]</td>\n",
       "      <td>[jamezblak, slyalubo, amasonic, _sir_leroy, misskucheli]</td>\n",
       "    </tr>\n",
       "    <tr>\n",
       "      <th>3</th>\n",
       "      <td>Nike</td>\n",
       "      <td>1.123320e+18</td>\n",
       "      <td>4/30/2019 20:33</td>\n",
       "      <td>@chirag1patelinn dreaming crazy since day one. 💭</td>\n",
       "      <td>False</td>\n",
       "      <td>[]</td>\n",
       "      <td>[chirag1patelinn]</td>\n",
       "    </tr>\n",
       "    <tr>\n",
       "      <th>4</th>\n",
       "      <td>Nike</td>\n",
       "      <td>1.123230e+18</td>\n",
       "      <td>4/30/2019 14:04</td>\n",
       "      <td>@liliteraria it's official. let's get to work. 🏃‍♀️</td>\n",
       "      <td>False</td>\n",
       "      <td>[]</td>\n",
       "      <td>[liliteraria]</td>\n",
       "    </tr>\n",
       "    <tr>\n",
       "      <th>5</th>\n",
       "      <td>Nike</td>\n",
       "      <td>1.123130e+18</td>\n",
       "      <td>4/30/2019 7:45</td>\n",
       "      <td>@sanchoymoi here to lend a hand. for us to assist with this can you send over an image of the hoodie?</td>\n",
       "      <td>False</td>\n",
       "      <td>[]</td>\n",
       "      <td>[sanchoymoi]</td>\n",
       "    </tr>\n",
       "    <tr>\n",
       "      <th>6</th>\n",
       "      <td>Nike</td>\n",
       "      <td>1.123000e+18</td>\n",
       "      <td>4/29/2019 23:15</td>\n",
       "      <td>@vanessalopicco2 they're here to stay. | https://t.co/z9yxhrirdt</td>\n",
       "      <td>False</td>\n",
       "      <td>[]</td>\n",
       "      <td>[vanessalopicco2]</td>\n",
       "    </tr>\n",
       "    <tr>\n",
       "      <th>7</th>\n",
       "      <td>Nike</td>\n",
       "      <td>1.122810e+18</td>\n",
       "      <td>4/29/2019 10:30</td>\n",
       "      <td>@mmatumanuel hola manuel, encantados de ayudarte. ¿podrías enviarnos un privado especificando lo que te está ocurri… https://t.co/tn38w7rfnh</td>\n",
       "      <td>False</td>\n",
       "      <td>[]</td>\n",
       "      <td>[mmatumanuel]</td>\n",
       "    </tr>\n",
       "    <tr>\n",
       "      <th>8</th>\n",
       "      <td>Nike</td>\n",
       "      <td>1.122800e+18</td>\n",
       "      <td>4/29/2019 10:04</td>\n",
       "      <td>@jm_depp hola josé, encantados de ayudarte. nike a partir del 30/04 ya no da soporte al nike sport watch y otras te… https://t.co/0bqeltiwkf</td>\n",
       "      <td>False</td>\n",
       "      <td>[]</td>\n",
       "      <td>[jm_depp]</td>\n",
       "    </tr>\n",
       "    <tr>\n",
       "      <th>9</th>\n",
       "      <td>Nike</td>\n",
       "      <td>1.122770e+18</td>\n",
       "      <td>4/29/2019 7:46</td>\n",
       "      <td>@prettyboyyfloyd rest assured, the air force 1 is here to stay.</td>\n",
       "      <td>False</td>\n",
       "      <td>[]</td>\n",
       "      <td>[prettyboyyfloyd]</td>\n",
       "    </tr>\n",
       "  </tbody>\n",
       "</table>\n",
       "</div>"
      ],
      "text/plain": [
       "  Username    Tweet I.D.        Timestamp  \\\n",
       "0  Nike     1.123660e+18  5/1/2019 18:48    \n",
       "1  Nike     1.123610e+18  5/1/2019 15:36    \n",
       "2  Nike     1.123510e+18  5/1/2019 8:45     \n",
       "3  Nike     1.123320e+18  4/30/2019 20:33   \n",
       "4  Nike     1.123230e+18  4/30/2019 14:04   \n",
       "5  Nike     1.123130e+18  4/30/2019 7:45    \n",
       "6  Nike     1.123000e+18  4/29/2019 23:15   \n",
       "7  Nike     1.122810e+18  4/29/2019 10:30   \n",
       "8  Nike     1.122800e+18  4/29/2019 10:04   \n",
       "9  Nike     1.122770e+18  4/29/2019 7:46    \n",
       "\n",
       "                                                                                                                                          Tweet  \\\n",
       "0  @landon_p__ apologies for the confusion, landon. the air force 1 flyknit 2.0 will release on 6.1. check out our cur… https://t.co/ccsi0ykiud   \n",
       "1  @garybohlke hey gary, when one door closes another one opens. meet the new most comfortable shoe you'll own. https://t.co/d784xwh4ba           \n",
       "2  @jamezblak @slyalubo @amasonic @_sir_leroy @misskucheli we're glad to see you back in action, heriju. the track is… https://t.co/6fuk3f8fsv    \n",
       "3  @chirag1patelinn dreaming crazy since day one. 💭                                                                                               \n",
       "4  @liliteraria it's official. let's get to work. 🏃‍♀️                                                                                            \n",
       "5  @sanchoymoi here to lend a hand. for us to assist with this can you send over an image of the hoodie?                                          \n",
       "6  @vanessalopicco2 they're here to stay. | https://t.co/z9yxhrirdt                                                                               \n",
       "7  @mmatumanuel hola manuel, encantados de ayudarte. ¿podrías enviarnos un privado especificando lo que te está ocurri… https://t.co/tn38w7rfnh   \n",
       "8  @jm_depp hola josé, encantados de ayudarte. nike a partir del 30/04 ya no da soporte al nike sport watch y otras te… https://t.co/0bqeltiwkf   \n",
       "9  @prettyboyyfloyd rest assured, the air force 1 is here to stay.                                                                                \n",
       "\n",
       "   retweet hashtags                                                  mentions  \n",
       "0  False    []       [landon_p__]                                              \n",
       "1  False    []       [garybohlke]                                              \n",
       "2  False    []       [jamezblak, slyalubo, amasonic, _sir_leroy, misskucheli]  \n",
       "3  False    []       [chirag1patelinn]                                         \n",
       "4  False    []       [liliteraria]                                             \n",
       "5  False    []       [sanchoymoi]                                              \n",
       "6  False    []       [vanessalopicco2]                                         \n",
       "7  False    []       [mmatumanuel]                                             \n",
       "8  False    []       [jm_depp]                                                 \n",
       "9  False    []       [prettyboyyfloyd]                                         "
      ]
     },
     "execution_count": 10,
     "metadata": {},
     "output_type": "execute_result"
    }
   ],
   "source": [
    "df['mentions'] = df.Tweet.str.findall(\"(?<=@)\\w+\")\n",
    "df.head(10)"
   ]
  },
  {
   "cell_type": "markdown",
   "metadata": {},
   "source": [
    "#### Cleaned Tweets"
   ]
  },
  {
   "cell_type": "code",
   "execution_count": 11,
   "metadata": {},
   "outputs": [],
   "source": [
    "df['cleaned'] = df['Tweet']"
   ]
  },
  {
   "cell_type": "code",
   "execution_count": 12,
   "metadata": {},
   "outputs": [
    {
     "data": {
      "text/html": [
       "<div>\n",
       "<style scoped>\n",
       "    .dataframe tbody tr th:only-of-type {\n",
       "        vertical-align: middle;\n",
       "    }\n",
       "\n",
       "    .dataframe tbody tr th {\n",
       "        vertical-align: top;\n",
       "    }\n",
       "\n",
       "    .dataframe thead th {\n",
       "        text-align: right;\n",
       "    }\n",
       "</style>\n",
       "<table border=\"1\" class=\"dataframe\">\n",
       "  <thead>\n",
       "    <tr style=\"text-align: right;\">\n",
       "      <th></th>\n",
       "      <th>Username</th>\n",
       "      <th>Tweet I.D.</th>\n",
       "      <th>Timestamp</th>\n",
       "      <th>Tweet</th>\n",
       "      <th>retweet</th>\n",
       "      <th>hashtags</th>\n",
       "      <th>mentions</th>\n",
       "      <th>cleaned</th>\n",
       "    </tr>\n",
       "  </thead>\n",
       "  <tbody>\n",
       "    <tr>\n",
       "      <th>0</th>\n",
       "      <td>Nike</td>\n",
       "      <td>1.123660e+18</td>\n",
       "      <td>5/1/2019 18:48</td>\n",
       "      <td>@landon_p__ apologies for the confusion, landon. the air force 1 flyknit 2.0 will release on 6.1. check out our cur… https://t.co/ccsi0ykiud</td>\n",
       "      <td>False</td>\n",
       "      <td>[]</td>\n",
       "      <td>[landon_p__]</td>\n",
       "      <td>landon apologies for the confusion landon the air force flyknit will release check out our cur</td>\n",
       "    </tr>\n",
       "    <tr>\n",
       "      <th>1</th>\n",
       "      <td>Nike</td>\n",
       "      <td>1.123610e+18</td>\n",
       "      <td>5/1/2019 15:36</td>\n",
       "      <td>@garybohlke hey gary, when one door closes another one opens. meet the new most comfortable shoe you'll own. https://t.co/d784xwh4ba</td>\n",
       "      <td>False</td>\n",
       "      <td>[]</td>\n",
       "      <td>[garybohlke]</td>\n",
       "      <td>garybohlke hey gary when one door closes another one opens meet the new most comfortable shoe you own</td>\n",
       "    </tr>\n",
       "    <tr>\n",
       "      <th>2</th>\n",
       "      <td>Nike</td>\n",
       "      <td>1.123510e+18</td>\n",
       "      <td>5/1/2019 8:45</td>\n",
       "      <td>@jamezblak @slyalubo @amasonic @_sir_leroy @misskucheli we're glad to see you back in action, heriju. the track is… https://t.co/6fuk3f8fsv</td>\n",
       "      <td>False</td>\n",
       "      <td>[]</td>\n",
       "      <td>[jamezblak, slyalubo, amasonic, _sir_leroy, misskucheli]</td>\n",
       "      <td>jamezblak slyalubo amasonic sir leroy misskucheli glad see you back action heriju the track</td>\n",
       "    </tr>\n",
       "    <tr>\n",
       "      <th>3</th>\n",
       "      <td>Nike</td>\n",
       "      <td>1.123320e+18</td>\n",
       "      <td>4/30/2019 20:33</td>\n",
       "      <td>@chirag1patelinn dreaming crazy since day one. 💭</td>\n",
       "      <td>False</td>\n",
       "      <td>[]</td>\n",
       "      <td>[chirag1patelinn]</td>\n",
       "      <td>chirag patelinn dreaming crazy since day one</td>\n",
       "    </tr>\n",
       "    <tr>\n",
       "      <th>4</th>\n",
       "      <td>Nike</td>\n",
       "      <td>1.123230e+18</td>\n",
       "      <td>4/30/2019 14:04</td>\n",
       "      <td>@liliteraria it's official. let's get to work. 🏃‍♀️</td>\n",
       "      <td>False</td>\n",
       "      <td>[]</td>\n",
       "      <td>[liliteraria]</td>\n",
       "      <td>liliteraria official let get work</td>\n",
       "    </tr>\n",
       "    <tr>\n",
       "      <th>5</th>\n",
       "      <td>Nike</td>\n",
       "      <td>1.123130e+18</td>\n",
       "      <td>4/30/2019 7:45</td>\n",
       "      <td>@sanchoymoi here to lend a hand. for us to assist with this can you send over an image of the hoodie?</td>\n",
       "      <td>False</td>\n",
       "      <td>[]</td>\n",
       "      <td>[sanchoymoi]</td>\n",
       "      <td>sanchoymoi here lend hand for assist with this can you send over image the hoodie</td>\n",
       "    </tr>\n",
       "    <tr>\n",
       "      <th>6</th>\n",
       "      <td>Nike</td>\n",
       "      <td>1.123000e+18</td>\n",
       "      <td>4/29/2019 23:15</td>\n",
       "      <td>@vanessalopicco2 they're here to stay. | https://t.co/z9yxhrirdt</td>\n",
       "      <td>False</td>\n",
       "      <td>[]</td>\n",
       "      <td>[vanessalopicco2]</td>\n",
       "      <td>vanessalopicco they here stay</td>\n",
       "    </tr>\n",
       "    <tr>\n",
       "      <th>7</th>\n",
       "      <td>Nike</td>\n",
       "      <td>1.122810e+18</td>\n",
       "      <td>4/29/2019 10:30</td>\n",
       "      <td>@mmatumanuel hola manuel, encantados de ayudarte. ¿podrías enviarnos un privado especificando lo que te está ocurri… https://t.co/tn38w7rfnh</td>\n",
       "      <td>False</td>\n",
       "      <td>[]</td>\n",
       "      <td>[mmatumanuel]</td>\n",
       "      <td>mmatumanuel hola manuel encantados ayudarte podr enviarnos privado especificando que est ocurri</td>\n",
       "    </tr>\n",
       "    <tr>\n",
       "      <th>8</th>\n",
       "      <td>Nike</td>\n",
       "      <td>1.122800e+18</td>\n",
       "      <td>4/29/2019 10:04</td>\n",
       "      <td>@jm_depp hola josé, encantados de ayudarte. nike a partir del 30/04 ya no da soporte al nike sport watch y otras te… https://t.co/0bqeltiwkf</td>\n",
       "      <td>False</td>\n",
       "      <td>[]</td>\n",
       "      <td>[jm_depp]</td>\n",
       "      <td>depp hola jos encantados ayudarte nike partir del soporte nike sport watch otras</td>\n",
       "    </tr>\n",
       "    <tr>\n",
       "      <th>9</th>\n",
       "      <td>Nike</td>\n",
       "      <td>1.122770e+18</td>\n",
       "      <td>4/29/2019 7:46</td>\n",
       "      <td>@prettyboyyfloyd rest assured, the air force 1 is here to stay.</td>\n",
       "      <td>False</td>\n",
       "      <td>[]</td>\n",
       "      <td>[prettyboyyfloyd]</td>\n",
       "      <td>prettyboyyfloyd rest assured the air force here stay</td>\n",
       "    </tr>\n",
       "  </tbody>\n",
       "</table>\n",
       "</div>"
      ],
      "text/plain": [
       "  Username    Tweet I.D.        Timestamp  \\\n",
       "0  Nike     1.123660e+18  5/1/2019 18:48    \n",
       "1  Nike     1.123610e+18  5/1/2019 15:36    \n",
       "2  Nike     1.123510e+18  5/1/2019 8:45     \n",
       "3  Nike     1.123320e+18  4/30/2019 20:33   \n",
       "4  Nike     1.123230e+18  4/30/2019 14:04   \n",
       "5  Nike     1.123130e+18  4/30/2019 7:45    \n",
       "6  Nike     1.123000e+18  4/29/2019 23:15   \n",
       "7  Nike     1.122810e+18  4/29/2019 10:30   \n",
       "8  Nike     1.122800e+18  4/29/2019 10:04   \n",
       "9  Nike     1.122770e+18  4/29/2019 7:46    \n",
       "\n",
       "                                                                                                                                          Tweet  \\\n",
       "0  @landon_p__ apologies for the confusion, landon. the air force 1 flyknit 2.0 will release on 6.1. check out our cur… https://t.co/ccsi0ykiud   \n",
       "1  @garybohlke hey gary, when one door closes another one opens. meet the new most comfortable shoe you'll own. https://t.co/d784xwh4ba           \n",
       "2  @jamezblak @slyalubo @amasonic @_sir_leroy @misskucheli we're glad to see you back in action, heriju. the track is… https://t.co/6fuk3f8fsv    \n",
       "3  @chirag1patelinn dreaming crazy since day one. 💭                                                                                               \n",
       "4  @liliteraria it's official. let's get to work. 🏃‍♀️                                                                                            \n",
       "5  @sanchoymoi here to lend a hand. for us to assist with this can you send over an image of the hoodie?                                          \n",
       "6  @vanessalopicco2 they're here to stay. | https://t.co/z9yxhrirdt                                                                               \n",
       "7  @mmatumanuel hola manuel, encantados de ayudarte. ¿podrías enviarnos un privado especificando lo que te está ocurri… https://t.co/tn38w7rfnh   \n",
       "8  @jm_depp hola josé, encantados de ayudarte. nike a partir del 30/04 ya no da soporte al nike sport watch y otras te… https://t.co/0bqeltiwkf   \n",
       "9  @prettyboyyfloyd rest assured, the air force 1 is here to stay.                                                                                \n",
       "\n",
       "   retweet hashtags                                                  mentions  \\\n",
       "0  False    []       [landon_p__]                                               \n",
       "1  False    []       [garybohlke]                                               \n",
       "2  False    []       [jamezblak, slyalubo, amasonic, _sir_leroy, misskucheli]   \n",
       "3  False    []       [chirag1patelinn]                                          \n",
       "4  False    []       [liliteraria]                                              \n",
       "5  False    []       [sanchoymoi]                                               \n",
       "6  False    []       [vanessalopicco2]                                          \n",
       "7  False    []       [mmatumanuel]                                              \n",
       "8  False    []       [jm_depp]                                                  \n",
       "9  False    []       [prettyboyyfloyd]                                          \n",
       "\n",
       "                                                                                                 cleaned  \n",
       "0  landon apologies for the confusion landon the air force flyknit will release check out our cur         \n",
       "1  garybohlke hey gary when one door closes another one opens meet the new most comfortable shoe you own  \n",
       "2  jamezblak slyalubo amasonic sir leroy misskucheli glad see you back action heriju the track            \n",
       "3  chirag patelinn dreaming crazy since day one                                                           \n",
       "4  liliteraria official let get work                                                                      \n",
       "5  sanchoymoi here lend hand for assist with this can you send over image the hoodie                      \n",
       "6  vanessalopicco they here stay                                                                          \n",
       "7  mmatumanuel hola manuel encantados ayudarte podr enviarnos privado especificando que est ocurri        \n",
       "8  depp hola jos encantados ayudarte nike partir del soporte nike sport watch otras                       \n",
       "9  prettyboyyfloyd rest assured the air force here stay                                                   "
      ]
     },
     "execution_count": 12,
     "metadata": {},
     "output_type": "execute_result"
    }
   ],
   "source": [
    "df['cleaned'] = df.cleaned.str.replace('http\\S+|www.\\S+', '')\n",
    "df['cleaned'] = df['cleaned'].str.replace(\"[^a-zA-Z]\", \" \")\n",
    "df['cleaned'] = df.cleaned.str.findall('\\w{3,}').str.join(' ')\n",
    "df.head(10)"
   ]
  },
  {
   "cell_type": "code",
   "execution_count": 13,
   "metadata": {},
   "outputs": [
    {
     "data": {
      "text/html": [
       "<div>\n",
       "<style scoped>\n",
       "    .dataframe tbody tr th:only-of-type {\n",
       "        vertical-align: middle;\n",
       "    }\n",
       "\n",
       "    .dataframe tbody tr th {\n",
       "        vertical-align: top;\n",
       "    }\n",
       "\n",
       "    .dataframe thead th {\n",
       "        text-align: right;\n",
       "    }\n",
       "</style>\n",
       "<table border=\"1\" class=\"dataframe\">\n",
       "  <thead>\n",
       "    <tr style=\"text-align: right;\">\n",
       "      <th></th>\n",
       "      <th>Username</th>\n",
       "      <th>0</th>\n",
       "    </tr>\n",
       "  </thead>\n",
       "  <tbody>\n",
       "    <tr>\n",
       "      <th>0</th>\n",
       "      <td>Nike</td>\n",
       "      <td>3244</td>\n",
       "    </tr>\n",
       "    <tr>\n",
       "      <th>1</th>\n",
       "      <td>Nike Basketball</td>\n",
       "      <td>94</td>\n",
       "    </tr>\n",
       "    <tr>\n",
       "      <th>2</th>\n",
       "      <td>Nike Football</td>\n",
       "      <td>94</td>\n",
       "    </tr>\n",
       "  </tbody>\n",
       "</table>\n",
       "</div>"
      ],
      "text/plain": [
       "          Username     0\n",
       "0  Nike             3244\n",
       "1  Nike Basketball  94  \n",
       "2  Nike Football    94  "
      ]
     },
     "execution_count": 13,
     "metadata": {},
     "output_type": "execute_result"
    }
   ],
   "source": [
    "df_count_user = df.groupby('Username').size().reset_index()\n",
    "df_count_user.head()"
   ]
  },
  {
   "cell_type": "code",
   "execution_count": 14,
   "metadata": {},
   "outputs": [
    {
     "data": {
      "text/plain": [
       "Nike               3244\n",
       "Nike Football      94  \n",
       "Nike Basketball    94  \n",
       "Name: Username, dtype: int64"
      ]
     },
     "execution_count": 14,
     "metadata": {},
     "output_type": "execute_result"
    }
   ],
   "source": [
    "# how many unique users in the dataset\n",
    "\n",
    "df_count_unique_user = df['Username'].value_counts()\n",
    "df_count_unique_user.head()"
   ]
  },
  {
   "cell_type": "code",
   "execution_count": 15,
   "metadata": {},
   "outputs": [
    {
     "data": {
      "text/plain": [
       "(3,)"
      ]
     },
     "execution_count": 15,
     "metadata": {},
     "output_type": "execute_result"
    }
   ],
   "source": [
    "# number of unique users\n",
    "\n",
    "df_count_unique_user.shape"
   ]
  },
  {
   "cell_type": "markdown",
   "metadata": {},
   "source": [
    "#### Wordcloud displaying the popular words within the Tweets that Nike sends."
   ]
  },
  {
   "cell_type": "code",
   "execution_count": 16,
   "metadata": {},
   "outputs": [
    {
     "data": {
      "image/png": "[encoded data removed]",
      "text/plain": [
       "<Figure size 432x288 with 1 Axes>"
      ]
     },
     "metadata": {
      "needs_background": "light"
     },
     "output_type": "display_data"
    }
   ],
   "source": [
    "#Wordcloud\n",
    "from wordcloud import WordCloud, STOPWORDS\n",
    "\n",
    "wordcloud = WordCloud().generate(' '.join(df['cleaned']))\n",
    "plt.imshow(wordcloud)\n",
    "plt.axis(\"off\")\n",
    "plt.show()"
   ]
  },
  {
   "cell_type": "markdown",
   "metadata": {},
   "source": [
    "#### How has Nike been using Twitter?"
   ]
  },
  {
   "cell_type": "code",
   "execution_count": 17,
   "metadata": {},
   "outputs": [
    {
     "name": "stdout",
     "output_type": "stream",
     "text": [
      "<class 'pandas.core.frame.DataFrame'>\n",
      "RangeIndex: 3432 entries, 0 to 3431\n",
      "Data columns (total 9 columns):\n",
      "Username      3432 non-null object\n",
      "Tweet I.D.    3432 non-null float64\n",
      "Timestamp     3432 non-null object\n",
      "Tweet         3432 non-null object\n",
      "retweet       3432 non-null bool\n",
      "hashtags      3432 non-null object\n",
      "mentions      3432 non-null object\n",
      "cleaned       3432 non-null object\n",
      "time          3432 non-null datetime64[ns]\n",
      "dtypes: bool(1), datetime64[ns](1), float64(1), object(6)\n",
      "memory usage: 217.9+ KB\n"
     ]
    }
   ],
   "source": [
    "df['time'] = pd.to_datetime(df['Timestamp'])\n",
    "df.info()"
   ]
  },
  {
   "cell_type": "code",
   "execution_count": 18,
   "metadata": {},
   "outputs": [
    {
     "data": {
      "text/html": [
       "<div>\n",
       "<style scoped>\n",
       "    .dataframe tbody tr th:only-of-type {\n",
       "        vertical-align: middle;\n",
       "    }\n",
       "\n",
       "    .dataframe tbody tr th {\n",
       "        vertical-align: top;\n",
       "    }\n",
       "\n",
       "    .dataframe thead th {\n",
       "        text-align: right;\n",
       "    }\n",
       "</style>\n",
       "<table border=\"1\" class=\"dataframe\">\n",
       "  <thead>\n",
       "    <tr style=\"text-align: right;\">\n",
       "      <th></th>\n",
       "      <th>Username</th>\n",
       "      <th>Tweet I.D.</th>\n",
       "      <th>Timestamp</th>\n",
       "      <th>Tweet</th>\n",
       "      <th>retweet</th>\n",
       "      <th>hashtags</th>\n",
       "      <th>mentions</th>\n",
       "      <th>cleaned</th>\n",
       "    </tr>\n",
       "    <tr>\n",
       "      <th>time</th>\n",
       "      <th></th>\n",
       "      <th></th>\n",
       "      <th></th>\n",
       "      <th></th>\n",
       "      <th></th>\n",
       "      <th></th>\n",
       "      <th></th>\n",
       "      <th></th>\n",
       "    </tr>\n",
       "  </thead>\n",
       "  <tbody>\n",
       "    <tr>\n",
       "      <th>2019-05-01 18:48:00</th>\n",
       "      <td>Nike</td>\n",
       "      <td>1.123660e+18</td>\n",
       "      <td>5/1/2019 18:48</td>\n",
       "      <td>@landon_p__ apologies for the confusion, landon. the air force 1 flyknit 2.0 will release on 6.1. check out our cur… https://t.co/ccsi0ykiud</td>\n",
       "      <td>False</td>\n",
       "      <td>[]</td>\n",
       "      <td>[landon_p__]</td>\n",
       "      <td>landon apologies for the confusion landon the air force flyknit will release check out our cur</td>\n",
       "    </tr>\n",
       "    <tr>\n",
       "      <th>2019-05-01 15:36:00</th>\n",
       "      <td>Nike</td>\n",
       "      <td>1.123610e+18</td>\n",
       "      <td>5/1/2019 15:36</td>\n",
       "      <td>@garybohlke hey gary, when one door closes another one opens. meet the new most comfortable shoe you'll own. https://t.co/d784xwh4ba</td>\n",
       "      <td>False</td>\n",
       "      <td>[]</td>\n",
       "      <td>[garybohlke]</td>\n",
       "      <td>garybohlke hey gary when one door closes another one opens meet the new most comfortable shoe you own</td>\n",
       "    </tr>\n",
       "    <tr>\n",
       "      <th>2019-05-01 08:45:00</th>\n",
       "      <td>Nike</td>\n",
       "      <td>1.123510e+18</td>\n",
       "      <td>5/1/2019 8:45</td>\n",
       "      <td>@jamezblak @slyalubo @amasonic @_sir_leroy @misskucheli we're glad to see you back in action, heriju. the track is… https://t.co/6fuk3f8fsv</td>\n",
       "      <td>False</td>\n",
       "      <td>[]</td>\n",
       "      <td>[jamezblak, slyalubo, amasonic, _sir_leroy, misskucheli]</td>\n",
       "      <td>jamezblak slyalubo amasonic sir leroy misskucheli glad see you back action heriju the track</td>\n",
       "    </tr>\n",
       "    <tr>\n",
       "      <th>2019-04-30 20:33:00</th>\n",
       "      <td>Nike</td>\n",
       "      <td>1.123320e+18</td>\n",
       "      <td>4/30/2019 20:33</td>\n",
       "      <td>@chirag1patelinn dreaming crazy since day one. 💭</td>\n",
       "      <td>False</td>\n",
       "      <td>[]</td>\n",
       "      <td>[chirag1patelinn]</td>\n",
       "      <td>chirag patelinn dreaming crazy since day one</td>\n",
       "    </tr>\n",
       "    <tr>\n",
       "      <th>2019-04-30 14:04:00</th>\n",
       "      <td>Nike</td>\n",
       "      <td>1.123230e+18</td>\n",
       "      <td>4/30/2019 14:04</td>\n",
       "      <td>@liliteraria it's official. let's get to work. 🏃‍♀️</td>\n",
       "      <td>False</td>\n",
       "      <td>[]</td>\n",
       "      <td>[liliteraria]</td>\n",
       "      <td>liliteraria official let get work</td>\n",
       "    </tr>\n",
       "    <tr>\n",
       "      <th>2019-04-30 07:45:00</th>\n",
       "      <td>Nike</td>\n",
       "      <td>1.123130e+18</td>\n",
       "      <td>4/30/2019 7:45</td>\n",
       "      <td>@sanchoymoi here to lend a hand. for us to assist with this can you send over an image of the hoodie?</td>\n",
       "      <td>False</td>\n",
       "      <td>[]</td>\n",
       "      <td>[sanchoymoi]</td>\n",
       "      <td>sanchoymoi here lend hand for assist with this can you send over image the hoodie</td>\n",
       "    </tr>\n",
       "    <tr>\n",
       "      <th>2019-04-29 23:15:00</th>\n",
       "      <td>Nike</td>\n",
       "      <td>1.123000e+18</td>\n",
       "      <td>4/29/2019 23:15</td>\n",
       "      <td>@vanessalopicco2 they're here to stay. | https://t.co/z9yxhrirdt</td>\n",
       "      <td>False</td>\n",
       "      <td>[]</td>\n",
       "      <td>[vanessalopicco2]</td>\n",
       "      <td>vanessalopicco they here stay</td>\n",
       "    </tr>\n",
       "    <tr>\n",
       "      <th>2019-04-29 10:30:00</th>\n",
       "      <td>Nike</td>\n",
       "      <td>1.122810e+18</td>\n",
       "      <td>4/29/2019 10:30</td>\n",
       "      <td>@mmatumanuel hola manuel, encantados de ayudarte. ¿podrías enviarnos un privado especificando lo que te está ocurri… https://t.co/tn38w7rfnh</td>\n",
       "      <td>False</td>\n",
       "      <td>[]</td>\n",
       "      <td>[mmatumanuel]</td>\n",
       "      <td>mmatumanuel hola manuel encantados ayudarte podr enviarnos privado especificando que est ocurri</td>\n",
       "    </tr>\n",
       "    <tr>\n",
       "      <th>2019-04-29 10:04:00</th>\n",
       "      <td>Nike</td>\n",
       "      <td>1.122800e+18</td>\n",
       "      <td>4/29/2019 10:04</td>\n",
       "      <td>@jm_depp hola josé, encantados de ayudarte. nike a partir del 30/04 ya no da soporte al nike sport watch y otras te… https://t.co/0bqeltiwkf</td>\n",
       "      <td>False</td>\n",
       "      <td>[]</td>\n",
       "      <td>[jm_depp]</td>\n",
       "      <td>depp hola jos encantados ayudarte nike partir del soporte nike sport watch otras</td>\n",
       "    </tr>\n",
       "    <tr>\n",
       "      <th>2019-04-29 07:46:00</th>\n",
       "      <td>Nike</td>\n",
       "      <td>1.122770e+18</td>\n",
       "      <td>4/29/2019 7:46</td>\n",
       "      <td>@prettyboyyfloyd rest assured, the air force 1 is here to stay.</td>\n",
       "      <td>False</td>\n",
       "      <td>[]</td>\n",
       "      <td>[prettyboyyfloyd]</td>\n",
       "      <td>prettyboyyfloyd rest assured the air force here stay</td>\n",
       "    </tr>\n",
       "  </tbody>\n",
       "</table>\n",
       "</div>"
      ],
      "text/plain": [
       "                    Username    Tweet I.D.        Timestamp  \\\n",
       "time                                                          \n",
       "2019-05-01 18:48:00  Nike     1.123660e+18  5/1/2019 18:48    \n",
       "2019-05-01 15:36:00  Nike     1.123610e+18  5/1/2019 15:36    \n",
       "2019-05-01 08:45:00  Nike     1.123510e+18  5/1/2019 8:45     \n",
       "2019-04-30 20:33:00  Nike     1.123320e+18  4/30/2019 20:33   \n",
       "2019-04-30 14:04:00  Nike     1.123230e+18  4/30/2019 14:04   \n",
       "2019-04-30 07:45:00  Nike     1.123130e+18  4/30/2019 7:45    \n",
       "2019-04-29 23:15:00  Nike     1.123000e+18  4/29/2019 23:15   \n",
       "2019-04-29 10:30:00  Nike     1.122810e+18  4/29/2019 10:30   \n",
       "2019-04-29 10:04:00  Nike     1.122800e+18  4/29/2019 10:04   \n",
       "2019-04-29 07:46:00  Nike     1.122770e+18  4/29/2019 7:46    \n",
       "\n",
       "                                                                                                                                                            Tweet  \\\n",
       "time                                                                                                                                                                \n",
       "2019-05-01 18:48:00  @landon_p__ apologies for the confusion, landon. the air force 1 flyknit 2.0 will release on 6.1. check out our cur… https://t.co/ccsi0ykiud   \n",
       "2019-05-01 15:36:00  @garybohlke hey gary, when one door closes another one opens. meet the new most comfortable shoe you'll own. https://t.co/d784xwh4ba           \n",
       "2019-05-01 08:45:00  @jamezblak @slyalubo @amasonic @_sir_leroy @misskucheli we're glad to see you back in action, heriju. the track is… https://t.co/6fuk3f8fsv    \n",
       "2019-04-30 20:33:00  @chirag1patelinn dreaming crazy since day one. 💭                                                                                               \n",
       "2019-04-30 14:04:00  @liliteraria it's official. let's get to work. 🏃‍♀️                                                                                            \n",
       "2019-04-30 07:45:00  @sanchoymoi here to lend a hand. for us to assist with this can you send over an image of the hoodie?                                          \n",
       "2019-04-29 23:15:00  @vanessalopicco2 they're here to stay. | https://t.co/z9yxhrirdt                                                                               \n",
       "2019-04-29 10:30:00  @mmatumanuel hola manuel, encantados de ayudarte. ¿podrías enviarnos un privado especificando lo que te está ocurri… https://t.co/tn38w7rfnh   \n",
       "2019-04-29 10:04:00  @jm_depp hola josé, encantados de ayudarte. nike a partir del 30/04 ya no da soporte al nike sport watch y otras te… https://t.co/0bqeltiwkf   \n",
       "2019-04-29 07:46:00  @prettyboyyfloyd rest assured, the air force 1 is here to stay.                                                                                \n",
       "\n",
       "                     retweet hashtags  \\\n",
       "time                                    \n",
       "2019-05-01 18:48:00  False    []        \n",
       "2019-05-01 15:36:00  False    []        \n",
       "2019-05-01 08:45:00  False    []        \n",
       "2019-04-30 20:33:00  False    []        \n",
       "2019-04-30 14:04:00  False    []        \n",
       "2019-04-30 07:45:00  False    []        \n",
       "2019-04-29 23:15:00  False    []        \n",
       "2019-04-29 10:30:00  False    []        \n",
       "2019-04-29 10:04:00  False    []        \n",
       "2019-04-29 07:46:00  False    []        \n",
       "\n",
       "                                                                     mentions  \\\n",
       "time                                                                            \n",
       "2019-05-01 18:48:00  [landon_p__]                                               \n",
       "2019-05-01 15:36:00  [garybohlke]                                               \n",
       "2019-05-01 08:45:00  [jamezblak, slyalubo, amasonic, _sir_leroy, misskucheli]   \n",
       "2019-04-30 20:33:00  [chirag1patelinn]                                          \n",
       "2019-04-30 14:04:00  [liliteraria]                                              \n",
       "2019-04-30 07:45:00  [sanchoymoi]                                               \n",
       "2019-04-29 23:15:00  [vanessalopicco2]                                          \n",
       "2019-04-29 10:30:00  [mmatumanuel]                                              \n",
       "2019-04-29 10:04:00  [jm_depp]                                                  \n",
       "2019-04-29 07:46:00  [prettyboyyfloyd]                                          \n",
       "\n",
       "                                                                                                                   cleaned  \n",
       "time                                                                                                                        \n",
       "2019-05-01 18:48:00  landon apologies for the confusion landon the air force flyknit will release check out our cur         \n",
       "2019-05-01 15:36:00  garybohlke hey gary when one door closes another one opens meet the new most comfortable shoe you own  \n",
       "2019-05-01 08:45:00  jamezblak slyalubo amasonic sir leroy misskucheli glad see you back action heriju the track            \n",
       "2019-04-30 20:33:00  chirag patelinn dreaming crazy since day one                                                           \n",
       "2019-04-30 14:04:00  liliteraria official let get work                                                                      \n",
       "2019-04-30 07:45:00  sanchoymoi here lend hand for assist with this can you send over image the hoodie                      \n",
       "2019-04-29 23:15:00  vanessalopicco they here stay                                                                          \n",
       "2019-04-29 10:30:00  mmatumanuel hola manuel encantados ayudarte podr enviarnos privado especificando que est ocurri        \n",
       "2019-04-29 10:04:00  depp hola jos encantados ayudarte nike partir del soporte nike sport watch otras                       \n",
       "2019-04-29 07:46:00  prettyboyyfloyd rest assured the air force here stay                                                   "
      ]
     },
     "execution_count": 18,
     "metadata": {},
     "output_type": "execute_result"
    }
   ],
   "source": [
    "df1 = df.set_index(['time'])\n",
    "df1.head(10)"
   ]
  },
  {
   "cell_type": "markdown",
   "metadata": {},
   "source": [
    "#### How is Nike using twitter? "
   ]
  },
  {
   "cell_type": "code",
   "execution_count": 19,
   "metadata": {},
   "outputs": [
    {
     "data": {
      "text/plain": [
       "time\n",
       "2013-09-30    4\n",
       "2013-10-31    2\n",
       "2013-11-30    0\n",
       "2013-12-31    0\n",
       "2014-01-31    0\n",
       "2014-02-28    0\n",
       "2014-03-31    2\n",
       "2014-04-30    2\n",
       "2014-05-31    0\n",
       "2014-06-30    4\n",
       "Freq: M, dtype: int64"
      ]
     },
     "execution_count": 19,
     "metadata": {},
     "output_type": "execute_result"
    }
   ],
   "source": [
    "#Monthly\n",
    "\n",
    "m = df1.resample('M').size()\n",
    "m[:10]"
   ]
  },
  {
   "cell_type": "code",
   "execution_count": 20,
   "metadata": {},
   "outputs": [
    {
     "data": {
      "text/plain": [
       "time\n",
       "2013-12-31    6   \n",
       "2014-12-31    22  \n",
       "2015-12-31    28  \n",
       "2016-12-31    0   \n",
       "2017-12-31    672 \n",
       "2018-12-31    2237\n",
       "2019-12-31    467 \n",
       "Freq: A-DEC, dtype: int64"
      ]
     },
     "execution_count": 20,
     "metadata": {},
     "output_type": "execute_result"
    }
   ],
   "source": [
    "#Yearly\n",
    "y = df1.resample('Y').size()\n",
    "y[:10]"
   ]
  },
  {
   "cell_type": "code",
   "execution_count": 21,
   "metadata": {},
   "outputs": [
    {
     "data": {
      "text/plain": [
       "<matplotlib.axes._subplots.AxesSubplot at 0x1d272dfb6a0>"
      ]
     },
     "execution_count": 21,
     "metadata": {},
     "output_type": "execute_result"
    },
    {
     "data": {
      "image/png": "[encoded data removed]",
      "text/plain": [
       "<Figure size 720x432 with 1 Axes>"
      ]
     },
     "metadata": {
      "needs_background": "light"
     },
     "output_type": "display_data"
    }
   ],
   "source": [
    "plt.figure(figsize=[10,6])\n",
    "m.plot()"
   ]
  },
  {
   "cell_type": "code",
   "execution_count": 22,
   "metadata": {},
   "outputs": [],
   "source": [
    "def f(x):\n",
    "     return pd.Series(dict(Number_of_tweets = x['Tweet'].count(), \n",
    "                        ))"
   ]
  },
  {
   "cell_type": "code",
   "execution_count": 23,
   "metadata": {},
   "outputs": [
    {
     "name": "stdout",
     "output_type": "stream",
     "text": [
      "592\n"
     ]
    },
    {
     "data": {
      "text/html": [
       "<div>\n",
       "<style scoped>\n",
       "    .dataframe tbody tr th:only-of-type {\n",
       "        vertical-align: middle;\n",
       "    }\n",
       "\n",
       "    .dataframe tbody tr th {\n",
       "        vertical-align: top;\n",
       "    }\n",
       "\n",
       "    .dataframe thead th {\n",
       "        text-align: right;\n",
       "    }\n",
       "</style>\n",
       "<table border=\"1\" class=\"dataframe\">\n",
       "  <thead>\n",
       "    <tr style=\"text-align: right;\">\n",
       "      <th></th>\n",
       "      <th>Number_of_tweets</th>\n",
       "    </tr>\n",
       "  </thead>\n",
       "  <tbody>\n",
       "    <tr>\n",
       "      <th>2013-09-14</th>\n",
       "      <td>2</td>\n",
       "    </tr>\n",
       "    <tr>\n",
       "      <th>2013-09-25</th>\n",
       "      <td>2</td>\n",
       "    </tr>\n",
       "    <tr>\n",
       "      <th>2013-10-21</th>\n",
       "      <td>2</td>\n",
       "    </tr>\n",
       "    <tr>\n",
       "      <th>2014-03-26</th>\n",
       "      <td>2</td>\n",
       "    </tr>\n",
       "    <tr>\n",
       "      <th>2014-04-24</th>\n",
       "      <td>2</td>\n",
       "    </tr>\n",
       "    <tr>\n",
       "      <th>2014-06-15</th>\n",
       "      <td>4</td>\n",
       "    </tr>\n",
       "    <tr>\n",
       "      <th>2014-09-01</th>\n",
       "      <td>14</td>\n",
       "    </tr>\n",
       "    <tr>\n",
       "      <th>2015-02-09</th>\n",
       "      <td>2</td>\n",
       "    </tr>\n",
       "    <tr>\n",
       "      <th>2015-02-23</th>\n",
       "      <td>2</td>\n",
       "    </tr>\n",
       "    <tr>\n",
       "      <th>2015-04-16</th>\n",
       "      <td>2</td>\n",
       "    </tr>\n",
       "  </tbody>\n",
       "</table>\n",
       "</div>"
      ],
      "text/plain": [
       "            Number_of_tweets\n",
       "2013-09-14  2               \n",
       "2013-09-25  2               \n",
       "2013-10-21  2               \n",
       "2014-03-26  2               \n",
       "2014-04-24  2               \n",
       "2014-06-15  4               \n",
       "2014-09-01  14              \n",
       "2015-02-09  2               \n",
       "2015-02-23  2               \n",
       "2015-04-16  2               "
      ]
     },
     "execution_count": 23,
     "metadata": {},
     "output_type": "execute_result"
    }
   ],
   "source": [
    "daily_count = df1.groupby(df1.index.date).apply(f)\n",
    "print(len(daily_count))\n",
    "daily_count[:10]"
   ]
  },
  {
   "cell_type": "markdown",
   "metadata": {},
   "source": [
    "#### What days of the week does Nike tweet the most?"
   ]
  },
  {
   "cell_type": "code",
   "execution_count": 24,
   "metadata": {},
   "outputs": [
    {
     "name": "stdout",
     "output_type": "stream",
     "text": [
      "7\n"
     ]
    },
    {
     "data": {
      "text/html": [
       "<div>\n",
       "<style scoped>\n",
       "    .dataframe tbody tr th:only-of-type {\n",
       "        vertical-align: middle;\n",
       "    }\n",
       "\n",
       "    .dataframe tbody tr th {\n",
       "        vertical-align: top;\n",
       "    }\n",
       "\n",
       "    .dataframe thead th {\n",
       "        text-align: right;\n",
       "    }\n",
       "</style>\n",
       "<table border=\"1\" class=\"dataframe\">\n",
       "  <thead>\n",
       "    <tr style=\"text-align: right;\">\n",
       "      <th></th>\n",
       "      <th>Number_of_tweets</th>\n",
       "    </tr>\n",
       "    <tr>\n",
       "      <th>time</th>\n",
       "      <th></th>\n",
       "    </tr>\n",
       "  </thead>\n",
       "  <tbody>\n",
       "    <tr>\n",
       "      <th>0</th>\n",
       "      <td>507</td>\n",
       "    </tr>\n",
       "    <tr>\n",
       "      <th>1</th>\n",
       "      <td>552</td>\n",
       "    </tr>\n",
       "    <tr>\n",
       "      <th>2</th>\n",
       "      <td>599</td>\n",
       "    </tr>\n",
       "    <tr>\n",
       "      <th>3</th>\n",
       "      <td>542</td>\n",
       "    </tr>\n",
       "    <tr>\n",
       "      <th>4</th>\n",
       "      <td>567</td>\n",
       "    </tr>\n",
       "    <tr>\n",
       "      <th>5</th>\n",
       "      <td>376</td>\n",
       "    </tr>\n",
       "    <tr>\n",
       "      <th>6</th>\n",
       "      <td>289</td>\n",
       "    </tr>\n",
       "  </tbody>\n",
       "</table>\n",
       "</div>"
      ],
      "text/plain": [
       "      Number_of_tweets\n",
       "time                  \n",
       "0     507             \n",
       "1     552             \n",
       "2     599             \n",
       "3     542             \n",
       "4     567             \n",
       "5     376             \n",
       "6     289             "
      ]
     },
     "execution_count": 24,
     "metadata": {},
     "output_type": "execute_result"
    }
   ],
   "source": [
    "weekday_count = df1.groupby(df1.index.weekday).apply(f)\n",
    "print(len(weekday_count))\n",
    "weekday_count\n",
    "\n",
    "# 0 : Monday , 1 : Tuesday , ..."
   ]
  },
  {
   "cell_type": "code",
   "execution_count": 25,
   "metadata": {},
   "outputs": [
    {
     "data": {
      "text/html": [
       "<div>\n",
       "<style scoped>\n",
       "    .dataframe tbody tr th:only-of-type {\n",
       "        vertical-align: middle;\n",
       "    }\n",
       "\n",
       "    .dataframe tbody tr th {\n",
       "        vertical-align: top;\n",
       "    }\n",
       "\n",
       "    .dataframe thead th {\n",
       "        text-align: right;\n",
       "    }\n",
       "</style>\n",
       "<table border=\"1\" class=\"dataframe\">\n",
       "  <thead>\n",
       "    <tr style=\"text-align: right;\">\n",
       "      <th></th>\n",
       "      <th>Number_of_tweets</th>\n",
       "      <th>day</th>\n",
       "    </tr>\n",
       "    <tr>\n",
       "      <th>time</th>\n",
       "      <th></th>\n",
       "      <th></th>\n",
       "    </tr>\n",
       "  </thead>\n",
       "  <tbody>\n",
       "    <tr>\n",
       "      <th>0</th>\n",
       "      <td>507</td>\n",
       "      <td>Monday</td>\n",
       "    </tr>\n",
       "    <tr>\n",
       "      <th>1</th>\n",
       "      <td>552</td>\n",
       "      <td>Tuesday</td>\n",
       "    </tr>\n",
       "    <tr>\n",
       "      <th>2</th>\n",
       "      <td>599</td>\n",
       "      <td>Wednesday</td>\n",
       "    </tr>\n",
       "    <tr>\n",
       "      <th>3</th>\n",
       "      <td>542</td>\n",
       "      <td>Thursday</td>\n",
       "    </tr>\n",
       "    <tr>\n",
       "      <th>4</th>\n",
       "      <td>567</td>\n",
       "      <td>Friday</td>\n",
       "    </tr>\n",
       "    <tr>\n",
       "      <th>5</th>\n",
       "      <td>376</td>\n",
       "      <td>Saturday</td>\n",
       "    </tr>\n",
       "    <tr>\n",
       "      <th>6</th>\n",
       "      <td>289</td>\n",
       "      <td>Sunday</td>\n",
       "    </tr>\n",
       "  </tbody>\n",
       "</table>\n",
       "</div>"
      ],
      "text/plain": [
       "      Number_of_tweets        day\n",
       "time                             \n",
       "0     507               Monday   \n",
       "1     552               Tuesday  \n",
       "2     599               Wednesday\n",
       "3     542               Thursday \n",
       "4     567               Friday   \n",
       "5     376               Saturday \n",
       "6     289               Sunday   "
      ]
     },
     "execution_count": 25,
     "metadata": {},
     "output_type": "execute_result"
    }
   ],
   "source": [
    "days = ['Monday', 'Tuesday', 'Wednesday', 'Thursday', 'Friday', 'Saturday', 'Sunday']\n",
    "weekday_count['day'] = days\n",
    "weekday_count"
   ]
  },
  {
   "cell_type": "code",
   "execution_count": 26,
   "metadata": {},
   "outputs": [
    {
     "data": {
      "image/png": "[encoded data removed]",
      "text/plain": [
       "<Figure size 432x288 with 1 Axes>"
      ]
     },
     "metadata": {
      "needs_background": "light"
     },
     "output_type": "display_data"
    }
   ],
   "source": [
    "from pylab import*\n",
    "\n",
    "day_of_week_plot = weekday_count['Number_of_tweets'].plot(kind='bar')\n",
    "xticks(np.arange(7), weekday_count['day'], rotation = 0, fontsize = 9) #, ha =\"left\") \n",
    "\n",
    "savefig('day-of-week counts.png', bbox_inches='tight', dpi=300, format='png')"
   ]
  },
  {
   "cell_type": "markdown",
   "metadata": {},
   "source": [
    "# Section 4: Text Processing Real-time Tweets "
   ]
  },
  {
   "cell_type": "code",
   "execution_count": 27,
   "metadata": {},
   "outputs": [
    {
     "data": {
      "text/plain": [
       "12009"
      ]
     },
     "execution_count": 27,
     "metadata": {},
     "output_type": "execute_result"
    }
   ],
   "source": [
    "texts = [ T['text'] for T in data if 'text' in T ]\n",
    "len(texts)"
   ]
  },
  {
   "cell_type": "code",
   "execution_count": 28,
   "metadata": {},
   "outputs": [
    {
     "data": {
      "text/plain": [
       "12009"
      ]
     },
     "execution_count": 28,
     "metadata": {},
     "output_type": "execute_result"
    }
   ],
   "source": [
    "# removing any error messages from Twitter API\n",
    "\n",
    "tweets = []\n",
    "for T in data:\n",
    "    if 'text' in T:\n",
    "        tweets.append(T)\n",
    "len(tweets)"
   ]
  },
  {
   "cell_type": "markdown",
   "metadata": {},
   "source": [
    "#### Who is talking about Nike?"
   ]
  },
  {
   "cell_type": "code",
   "execution_count": 29,
   "metadata": {},
   "outputs": [
    {
     "name": "stdout",
     "output_type": "stream",
     "text": [
      "Dw9K1ZMaePEu1gk\n",
      "agsvecega\n",
      "CoachFilzen\n",
      "you_12345579\n",
      "euoficialbr\n",
      "_timbalada_\n",
      "rapelang_tlou\n",
      "liluzistevee\n",
      "Catha_Ana\n",
      "Zodilux\n"
     ]
    }
   ],
   "source": [
    "#ten screen names talking about Nike\n",
    "\n",
    "for i in data[:10]:\n",
    "    print(i['user']['screen_name'])"
   ]
  },
  {
   "cell_type": "code",
   "execution_count": 30,
   "metadata": {},
   "outputs": [],
   "source": [
    "screen_names = [T['user']['screen_name'] for T in tweets]"
   ]
  },
  {
   "cell_type": "markdown",
   "metadata": {},
   "source": [
    "#### How many \"unique\" or different user names are there talking about Nike?"
   ]
  },
  {
   "cell_type": "code",
   "execution_count": 31,
   "metadata": {},
   "outputs": [],
   "source": [
    "from collections import Counter\n",
    "\n",
    "c = Counter(screen_names)"
   ]
  },
  {
   "cell_type": "code",
   "execution_count": 32,
   "metadata": {},
   "outputs": [
    {
     "data": {
      "text/plain": [
       "9477"
      ]
     },
     "execution_count": 32,
     "metadata": {},
     "output_type": "execute_result"
    }
   ],
   "source": [
    "len(c)"
   ]
  },
  {
   "cell_type": "markdown",
   "metadata": {},
   "source": [
    "#### Are there popular usernames talking about Nike?"
   ]
  },
  {
   "cell_type": "code",
   "execution_count": 33,
   "metadata": {},
   "outputs": [
    {
     "data": {
      "text/plain": [
       "[('StockXLive', 94),\n",
       " ('Deadstocksnkrz1', 50),\n",
       " ('Zodilux', 45),\n",
       " ('ModernOwners', 44),\n",
       " ('RandomFindsShop', 44),\n",
       " ('MJ23_Chicago', 42),\n",
       " ('MakeAnOfferThen', 38),\n",
       " ('JustMightLook', 38),\n",
       " ('ReeeemixHQ', 35),\n",
       " ('IcySoleOnline', 28)]"
      ]
     },
     "execution_count": 33,
     "metadata": {},
     "output_type": "execute_result"
    }
   ],
   "source": [
    "c.most_common(10)"
   ]
  },
  {
   "cell_type": "markdown",
   "metadata": {},
   "source": [
    "#### What are popular hashtags about Nike?"
   ]
  },
  {
   "cell_type": "code",
   "execution_count": 34,
   "metadata": {},
   "outputs": [],
   "source": [
    "hashtags = []\n",
    "\n",
    "for tweet in texts:\n",
    "    a = re.findall(r\"(?<=#)\\w+\", tweet)\n",
    "    for i in a:\n",
    "        hashtags.append(['#'+i][0])"
   ]
  },
  {
   "cell_type": "code",
   "execution_count": 35,
   "metadata": {},
   "outputs": [
    {
     "data": {
      "text/plain": [
       "[('#nike', 249),\n",
       " ('#Nike', 233),\n",
       " ('#CasterSemenya', 220),\n",
       " ('#shopmycloset', 187),\n",
       " ('#fashion', 135),\n",
       " ('#poshmark', 117),\n",
       " ('#UmSóCorinthians', 106),\n",
       " ('#NIKE', 98),\n",
       " ('#style', 87),\n",
       " ('#スニーカー', 54),\n",
       " ('#airmax', 49),\n",
       " ('#HumpdayGiveaway', 49),\n",
       " ('#ナイキ', 49),\n",
       " ('#AD', 37),\n",
       " ('#AirVaporMax', 33),\n",
       " ('#adidas', 32),\n",
       " ('#ad', 32),\n",
       " ('#airforce', 29),\n",
       " ('#jordan', 27),\n",
       " ('#ALL4ASU', 26)]"
      ]
     },
     "execution_count": 35,
     "metadata": {},
     "output_type": "execute_result"
    }
   ],
   "source": [
    "c = Counter(hashtags)\n",
    "c.most_common(20)"
   ]
  },
  {
   "cell_type": "markdown",
   "metadata": {},
   "source": [
    "#### It appears that there is a lot of foreign language hashtags; how many tweets are in english?"
   ]
  },
  {
   "cell_type": "code",
   "execution_count": 36,
   "metadata": {},
   "outputs": [
    {
     "data": {
      "text/plain": [
       "8048"
      ]
     },
     "execution_count": 36,
     "metadata": {},
     "output_type": "execute_result"
    }
   ],
   "source": [
    "english = []\n",
    "\n",
    "# for loop\n",
    "\n",
    "for i in tweets:\n",
    "    if i['user']['lang'] ==\"en\":\n",
    "        english.append(i)\n",
    "len(english)"
   ]
  },
  {
   "cell_type": "markdown",
   "metadata": {},
   "source": [
    "#### How many of the tweets about Nike are original tweets? How many are retweets?"
   ]
  },
  {
   "cell_type": "code",
   "execution_count": 37,
   "metadata": {},
   "outputs": [
    {
     "data": {
      "text/plain": [
       "5884"
      ]
     },
     "execution_count": 37,
     "metadata": {},
     "output_type": "execute_result"
    }
   ],
   "source": [
    "originaltweets = []\n",
    "\n",
    "for tweet in texts:\n",
    "    if 'rt @' not in tweet.lower():\n",
    "        originaltweets.append(tweet)\n",
    "        \n",
    "len(originaltweets)"
   ]
  },
  {
   "cell_type": "code",
   "execution_count": 38,
   "metadata": {},
   "outputs": [
    {
     "data": {
      "text/plain": [
       "6125"
      ]
     },
     "execution_count": 38,
     "metadata": {},
     "output_type": "execute_result"
    }
   ],
   "source": [
    "# get retweets only\n",
    "\n",
    "#remove original tweets\n",
    "\n",
    "retweets_only = []\n",
    "\n",
    "for tweet in texts:\n",
    "    if 'rt @' in tweet.lower():\n",
    "        retweets_only.append(tweet)\n",
    "        \n",
    "len(retweets_only)"
   ]
  },
  {
   "cell_type": "markdown",
   "metadata": {},
   "source": [
    "#### What are the popular URLS regarding Nike?"
   ]
  },
  {
   "cell_type": "code",
   "execution_count": 39,
   "metadata": {},
   "outputs": [
    {
     "name": "stdout",
     "output_type": "stream",
     "text": [
      "https://t.co/ei1wYgjqLS\n",
      "https://t.co/ARVLqkn103\n",
      "https://t.co/t8ypaO9gOU\n",
      "https://t.co/DlR5SAAbJy\n",
      "https://t.co/YO29sjwKNL\n"
     ]
    }
   ],
   "source": [
    "for T in tweets[:10]:\n",
    "    for i in T['entities']['urls']:\n",
    "        print(i['url'])"
   ]
  },
  {
   "cell_type": "code",
   "execution_count": 40,
   "metadata": {},
   "outputs": [],
   "source": [
    "urls = []\n",
    "\n",
    "for T in tweets:\n",
    "    for i in T['entities']['urls']:\n",
    "        urls.append(i['url'])        "
   ]
  },
  {
   "cell_type": "code",
   "execution_count": 41,
   "metadata": {},
   "outputs": [
    {
     "data": {
      "text/plain": [
       "[('https://t.co/SsyiPxjNdG', 215),\n",
       " ('https://t.co/ei1wYgjqLS', 65),\n",
       " ('https://t.co/sOhoUprZxi', 48),\n",
       " ('https://t.co/3YGTiuNTjX', 46),\n",
       " ('https://t.co/BF0Tfkrr1b', 33),\n",
       " ('https://t.co/gs592kdaqx', 25),\n",
       " ('https://t.co/MO4ZAG3ybQ', 23),\n",
       " ('https://t.co/7L6m5Dinpo', 23),\n",
       " ('https://t.co/LgXs5CVrmF', 18),\n",
       " ('https://t.co/sOhoUpJAoQ', 18),\n",
       " ('https://t.co/2Wo1zt0CAD', 16),\n",
       " ('https://t.co/pU5wCUUTbW', 15),\n",
       " ('https://t.co/jvh0jxejVj', 15),\n",
       " ('https://t.co/AtjtGO8dLj', 14),\n",
       " ('https://t.co/aGg8NLvBNn', 14),\n",
       " ('https://t.co/3n5WixliS6', 14),\n",
       " ('https://t.co/j1NzaPDpO0', 13),\n",
       " ('https://t.co/v88sb512oW', 12),\n",
       " ('https://t.co/jHnRmD3ZFQ', 12),\n",
       " ('https://t.co/ESz7LE5CmW', 12)]"
      ]
     },
     "execution_count": 41,
     "metadata": {},
     "output_type": "execute_result"
    }
   ],
   "source": [
    "#Top 10 URLs\n",
    "\n",
    "c = Counter(urls)\n",
    "c.most_common(20)"
   ]
  },
  {
   "cell_type": "markdown",
   "metadata": {},
   "source": [
    "#### Where are some of the places in the world that people are talking about Nike?"
   ]
  },
  {
   "cell_type": "code",
   "execution_count": 42,
   "metadata": {},
   "outputs": [
    {
     "name": "stdout",
     "output_type": "stream",
     "text": [
      "Let’s meet at the summit\n",
      "None\n",
      "Appleton, WI\n",
      "None\n",
      "Campo Grande MS\n",
      "Caçador-SC\n",
      "Cape Town \n",
      "None\n",
      "None\n",
      "☑ Right Here\n",
      "Birmingham, England\n",
      "Davie, FL\n",
      "None\n",
      "Los Angeles, CA\n",
      "Zimbabwe\n",
      "None\n",
      "Henderson, NV\n",
      "Lagos, Nigeria\n",
      "☑ Right Here\n",
      "Astroworld\n"
     ]
    }
   ],
   "source": [
    "for i in tweets[:20]:\n",
    "    print(i['user']['location'])"
   ]
  },
  {
   "cell_type": "code",
   "execution_count": 43,
   "metadata": {},
   "outputs": [],
   "source": [
    "import nltk\n",
    "from nltk import word_tokenize\n",
    "from nltk.corpus import stopwords\n",
    "\n",
    "#convert lists to strings\n",
    "originaltweets = str(originaltweets)\n",
    "\n",
    "#lowercase\n",
    "tokens = originaltweets.lower()\n",
    "\n",
    "#tokenize\n",
    "tokens = tokens.split()\n",
    "\n",
    "#Remove stopwords\n",
    "tokens = (word for word in tokens if word not in stopwords.words('english'))\n",
    "\n",
    "# Filter non-alphanumeric chars from tokens\n",
    "tokens = (ch.lower() for ch in tokens if ch.isalpha())\n",
    "\n",
    "#Create your bigrams\n",
    "#bgs = nltk.bigrams(tokens)\n",
    "\n",
    "#compute frequency distribution for all the bigrams in the text\n",
    "fdist = nltk.FreqDist(tokens)"
   ]
  },
  {
   "cell_type": "code",
   "execution_count": 44,
   "metadata": {},
   "outputs": [
    {
     "data": {
      "text/plain": [
       "[('nike', 2302),\n",
       " ('air', 823),\n",
       " ('de', 357),\n",
       " ('size', 321),\n",
       " ('added', 307),\n",
       " ('closet', 302),\n",
       " ('max', 283),\n",
       " ('jordan', 275),\n",
       " ('via', 228),\n",
       " ('da', 206),\n",
       " ('que', 192),\n",
       " ('x', 169),\n",
       " ('react', 168),\n",
       " ('may', 168),\n",
       " ('new', 151),\n",
       " ('shoes', 145),\n",
       " ('e', 145),\n",
       " ('black', 143),\n",
       " ('good', 143),\n",
       " ('retro', 140),\n",
       " ('check', 131),\n",
       " ('like', 123),\n",
       " ('um', 123),\n",
       " ('white', 122),\n",
       " ('element', 119)]"
      ]
     },
     "execution_count": 44,
     "metadata": {},
     "output_type": "execute_result"
    }
   ],
   "source": [
    "fdist.most_common(25)"
   ]
  },
  {
   "cell_type": "markdown",
   "metadata": {},
   "source": [
    "#### Who are the most visible users talking about Nike?"
   ]
  },
  {
   "cell_type": "code",
   "execution_count": 45,
   "metadata": {},
   "outputs": [
    {
     "name": "stdout",
     "output_type": "stream",
     "text": [
      "RT @cons_up: 많은 게 느껴지네. 사실 체형만은 '예쁘게 마른 아이돌'에 들어갈 수도 있겠지만(물론 더 다부짐) 포즈와 담아내는 시선에 따라 이렇게나 다르다. 인형이 아니라 사람처럼 보이잖아. https://t.co/ei1wYgjqLS\n",
      "RT @sweatyhairy: I like those nike shirts that just say somethin like \"FUCK SLEEP\" or \"HARDEST DICK IN THE ROOM\" on the front\n",
      "@awborresen @LUvikings @LawrenceUni Great post... except for the Under Armour logo... @LUCoachMike has to be so dis… https://t.co/ARVLqkn103\n",
      "RT @Corinthians: #UmSóCorinthians\n",
      "\n",
      "Na estreia do novo manto alvinegro, Timão vence Chapecoense pelo Brasileirão!\n",
      "\n",
      "Compre já a nova camisa:…\n",
      "@JornalismoWando Fico imaginando ele se preparando pra guerra, com tênis Nike, camiseta de marca, protetor solar, ó… https://t.co/t8ypaO9gOU\n",
      "RT @Corinthians: #UmSóCorinthians\n",
      "\n",
      "Na estreia do novo manto alvinegro, Timão vence Chapecoense pelo Brasileirão!\n",
      "\n",
      "Compre já a nova camisa:…\n",
      "RT @blessedkide5: @rapelang_tlou @nkulipp https://t.co/DlR5SAAbJy\n",
      "RT @AuthAccountz: 25 FREE ACCOUNTS TO A RETWEET (MUST FOLLOW!)\n",
      "\n",
      "🇺🇸U.S./🇬🇧U.K Verified Nike+/SNKRS accounts available for the Air Jordan 1 H…\n",
      "RT @femaIepwr: MANO O COMERCIAL DA NIKE CARALHO https://t.co/srlknxvoBk\n",
      "NIKE Air X Fear of God Raid Light Bone Size 10 us (IN HAND + DS) https://t.co/YO29sjwKNL\n"
     ]
    }
   ],
   "source": [
    "for tweet in texts[:10]:\n",
    "    print(tweet)"
   ]
  },
  {
   "cell_type": "code",
   "execution_count": 46,
   "metadata": {},
   "outputs": [
    {
     "name": "stdout",
     "output_type": "stream",
     "text": [
      "['cons_up']\n",
      "['sweatyhairy']\n",
      "['awborresen', 'LUvikings', 'LawrenceUni', 'LUCoachMike']\n",
      "['Corinthians']\n",
      "['JornalismoWando']\n",
      "['Corinthians']\n",
      "['blessedkide5', 'rapelang_tlou', 'nkulipp']\n",
      "['AuthAccountz']\n",
      "['femaIepwr']\n",
      "[]\n"
     ]
    }
   ],
   "source": [
    "import re\n",
    "\n",
    "for tweet in texts[:10]:\n",
    "    print(re.findall(r\"(?<=@)\\w+\", tweet))"
   ]
  },
  {
   "cell_type": "code",
   "execution_count": 47,
   "metadata": {},
   "outputs": [
    {
     "name": "stdout",
     "output_type": "stream",
     "text": [
      "@cons_up\n",
      "@sweatyhairy\n",
      "@awborresen\n",
      "@LUvikings\n",
      "@LawrenceUni\n",
      "@LUCoachMike\n",
      "@Corinthians\n",
      "@JornalismoWando\n",
      "@Corinthians\n",
      "@blessedkide5\n",
      "@rapelang_tlou\n",
      "@nkulipp\n",
      "@AuthAccountz\n",
      "@femaIepwr\n"
     ]
    }
   ],
   "source": [
    "for tweet in texts[:10]:\n",
    "    a = re.findall(r\"(?<=@)\\w+\", tweet)\n",
    "    for i in a:\n",
    "        print('@'+i)"
   ]
  },
  {
   "cell_type": "code",
   "execution_count": 48,
   "metadata": {},
   "outputs": [],
   "source": [
    "visible_users = []\n",
    "\n",
    "for tweet in texts:\n",
    "    a = re.findall(r\"(?<=@)\\w+\", tweet)\n",
    "    for i in a:\n",
    "        visible_users.append(['@'+i][0])"
   ]
  },
  {
   "cell_type": "code",
   "execution_count": 49,
   "metadata": {},
   "outputs": [
    {
     "name": "stdout",
     "output_type": "stream",
     "text": [
      "@cons_up\n",
      "@sweatyhairy\n",
      "@awborresen\n",
      "@LUvikings\n",
      "@LawrenceUni\n",
      "@LUCoachMike\n",
      "@Corinthians\n",
      "@JornalismoWando\n",
      "@Corinthians\n",
      "@blessedkide5\n"
     ]
    }
   ],
   "source": [
    "for i in visible_users[:10]:\n",
    "    print(i)"
   ]
  },
  {
   "cell_type": "code",
   "execution_count": 50,
   "metadata": {},
   "outputs": [
    {
     "data": {
      "text/plain": [
       "[('@simonallison', 670),\n",
       " ('@Nike', 553),\n",
       " ('@ModernNotoriety', 264),\n",
       " ('@naofacaeusacar', 213),\n",
       " ('@faustaofashion', 175),\n",
       " ('@advancxd', 166),\n",
       " ('@HYPEBEAST', 125),\n",
       " ('@IGimports', 124),\n",
       " ('@ofutmundo', 124),\n",
       " ('@sweatyhairy', 122),\n",
       " ('@poshmarkapp', 121),\n",
       " ('@Poshmarkapp', 121),\n",
       " ('@Corinthians', 113),\n",
       " ('@SneakerNews', 108),\n",
       " ('@KicksDeals', 92),\n",
       " ('@swipathefox', 87),\n",
       " ('@Juezcentral', 81),\n",
       " ('@brkicks', 79),\n",
       " ('@J23app', 77),\n",
       " ('@nikestore', 77)]"
      ]
     },
     "execution_count": 50,
     "metadata": {},
     "output_type": "execute_result"
    }
   ],
   "source": [
    "# 20 most visible users in this dataset\n",
    "\n",
    "c = Counter(visible_users)\n",
    "c.most_common(20)"
   ]
  },
  {
   "cell_type": "markdown",
   "metadata": {},
   "source": [
    "#### Which user names talking about Nike have the most followers?"
   ]
  },
  {
   "cell_type": "code",
   "execution_count": 51,
   "metadata": {},
   "outputs": [],
   "source": [
    "screen_names = [T['user']['screen_name'] for T in tweets if 'user' in T]\n",
    "screen_names_description = [status['user']['description'] for status in tweets if 'user' in status]\n",
    "followers_count = [status['user']['followers_count'] for status in tweets if 'user' in status]\n",
    "friends_count = [status['user']['friends_count'] for status in tweets if 'user' in status]\n",
    "screen_names_created = [status['user']['created_at'] for status in tweets if 'user' in status]\n",
    "location = [status['user']['location'] for status in tweets if 'user' in status]"
   ]
  },
  {
   "cell_type": "code",
   "execution_count": 52,
   "metadata": {},
   "outputs": [
    {
     "name": "stdout",
     "output_type": "stream",
     "text": [
      "('Dw9K1ZMaePEu1gk', 58, 216)\n",
      "('agsvecega', 118, 177)\n",
      "('CoachFilzen', 254, 179)\n",
      "('you_12345579', 1, 27)\n",
      "('euoficialbr', 20, 124)\n",
      "('_timbalada_', 1828, 1918)\n",
      "('rapelang_tlou', 6683, 7157)\n",
      "('liluzistevee', 10, 50)\n",
      "('Catha_Ana', 402, 218)\n",
      "('Zodilux', 1256, 2)\n"
     ]
    }
   ],
   "source": [
    "followers_friends = list(zip(screen_names, followers_count, friends_count))\n",
    "for i in followers_friends[:10]:\n",
    "    print(i)"
   ]
  },
  {
   "cell_type": "code",
   "execution_count": 53,
   "metadata": {},
   "outputs": [
    {
     "name": "stdout",
     "output_type": "stream",
     "text": [
      "Dw9K1ZMaePEu1gk 58 216\n",
      "agsvecega 118 177\n",
      "CoachFilzen 254 179\n",
      "you_12345579 1 27\n",
      "euoficialbr 20 124\n",
      "_timbalada_ 1828 1918\n",
      "rapelang_tlou 6683 7157\n",
      "liluzistevee 10 50\n",
      "Catha_Ana 402 218\n",
      "Zodilux 1256 2\n"
     ]
    }
   ],
   "source": [
    "# this is another way to find out screen name, follower count, and friends count\n",
    "\n",
    "for tweet in tweets[:10]:\n",
    "    print(tweet['user']['screen_name'], tweet['user']['followers_count'], tweet['user']['friends_count'])"
   ]
  },
  {
   "cell_type": "code",
   "execution_count": 54,
   "metadata": {},
   "outputs": [
    {
     "data": {
      "text/plain": [
       "[['Dw9K1ZMaePEu1gk', 58],\n",
       " ['agsvecega', 118],\n",
       " ['CoachFilzen', 254],\n",
       " ['you_12345579', 1],\n",
       " ['euoficialbr', 20],\n",
       " ['_timbalada_', 1828],\n",
       " ['rapelang_tlou', 6683],\n",
       " ['liluzistevee', 10],\n",
       " ['Catha_Ana', 402],\n",
       " ['Zodilux', 1256]]"
      ]
     },
     "execution_count": 54,
     "metadata": {},
     "output_type": "execute_result"
    }
   ],
   "source": [
    "# saving every user and his/her follower counts\n",
    "\n",
    "user_followerscount = []\n",
    "\n",
    "for tweet in tweets:\n",
    "    user_followerscount.append([tweet['user']['screen_name'], tweet['user']['followers_count']]) \n",
    "    \n",
    "user_followerscount[:10]"
   ]
  },
  {
   "cell_type": "code",
   "execution_count": 55,
   "metadata": {},
   "outputs": [
    {
     "data": {
      "text/plain": [
       "[['nikestore', 4577338],\n",
       " ['nikestore', 4577269],\n",
       " ['nikestore', 4577258],\n",
       " ['nikestore', 4577248],\n",
       " ['nikestore', 4577239],\n",
       " ['HotNewHipHop', 1088166],\n",
       " ['HotNewHipHop', 1088126],\n",
       " ['SacramentoKings', 1031399],\n",
       " ['kicksonfire', 909073],\n",
       " ['kicksonfire', 909045]]"
      ]
     },
     "execution_count": 55,
     "metadata": {},
     "output_type": "execute_result"
    }
   ],
   "source": [
    "from operator import itemgetter\n",
    "\n",
    "sorted(user_followerscount,key=itemgetter(1), reverse=True)[:10]"
   ]
  },
  {
   "cell_type": "markdown",
   "metadata": {},
   "source": [
    "# Section 5: Selenium Web Crawling Nike Product Reviews"
   ]
  },
  {
   "cell_type": "code",
   "execution_count": 58,
   "metadata": {},
   "outputs": [],
   "source": [
    "from selenium import webdriver"
   ]
  },
  {
   "cell_type": "code",
   "execution_count": 60,
   "metadata": {},
   "outputs": [],
   "source": [
    "# import python packages\n",
    "import requests\n",
    "from lxml import html\n",
    "import csv\n",
    "import pandas as pd\n",
    "%matplotlib inline\n",
    "import matplotlib.pyplot as plt"
   ]
  },
  {
   "cell_type": "raw",
   "metadata": {
    "scrolled": true
   },
   "source": [
    "#First page url: https://www.influenster.com/reviews/nike?review_sort=most+recent\n",
    "#Second page url: https://www.influenster.com/reviews/nike?review_sort=most+recent&review_page=2\n",
    "\n",
    "driver = webdriver.Firefox(executable_path=r'C:/Downloads/geckodriver.exe')  #change this line\n",
    "driver.get(\"https://www.influenster.com/reviews/nike?review_sort=most+recent\")\n",
    "\n",
    "reviews = driver.find_elements_by_xpath(\"//div[@class='content-item-body review-item-body']\")\n",
    "\n",
    "for i in reviews:\n",
    "    print(i.text)\n",
    "    print(i.get_attribute('data-stars'))"
   ]
  },
  {
   "cell_type": "code",
   "execution_count": 62,
   "metadata": {},
   "outputs": [],
   "source": [
    "driver.quit()"
   ]
  },
  {
   "cell_type": "code",
   "execution_count": 63,
   "metadata": {},
   "outputs": [
    {
     "name": "stdout",
     "output_type": "stream",
     "text": [
      "Nike 😍 my favorite brand not only shoes , it has an excellent athletic products that i have been using .\n",
      "We love Nike in our house. And 100% support their campaign. My son wears Nike almost everyday. The quality of the clothes and shoes are outstanding. They last for a really long time. The airwick material drys fast. While it is a bit pricey but in this case you pay for what you get. I just recently bought a Nike bathing suit and its amazing. Very high quality compared to most bathing suits and its super cute. I would highly recommend. And will be buying again.\n",
      "I like nike I really do however sometimes I feel like the quality has gone down some. I dont like to feel as if I'm just paying for a name I actually want good quality clothes if I'm spending a lot of money. Some shirts that I have just dont last and the shoes also seem to get run down quick. Their kids clothes seem to fair a lot better\n",
      "Amo sus maletas, mochilas, tenis, short. Aunque sea deportivo, combina muy bien con algo casual 👏🏽\n",
      "No he has good things for kids women and men and they also have a good clearance rack if you really look\n",
      "I love nike shoes. I can buy a pair and they will last me years. Their clothing is great quality\n",
      "I love nike, I have shoes of that brand and I even use them sometimes to go out. I love clothes, leggings are beautiful and comfortable\n",
      "NIKE is my favorite brand to wear while i work out! i love how they have the Metcons for us crossfit athletes and i appreciate that they come out with shoes that are focused on our level of intensity workout at least once a year. \n",
      "Love Nike! very good quality for a name brand. i’ve got shoes, leggings, shirts and they’ve all had such great quality to them\n",
      "Excellent sport clothing and shoes, super organize stores. Vanguard technology in every product. I preferred it over others brands\n"
     ]
    }
   ],
   "source": [
    "#Reviews 1\n",
    "\n",
    "driver = webdriver.Firefox(executable_path=r'C:/Downloads/geckodriver.exe')  #change this line\n",
    "driver.get(\"https://www.influenster.com/reviews/nike?review_sort=most+recent\")\n",
    "\n",
    "#for i in range(1,10):\n",
    "for review in driver.find_elements_by_xpath(\"//div[@class='content-item-body review-item-body']\"):\n",
    "    review1 = review.find_element_by_xpath(\"div[@class='content-item-text review-text']\").text\n",
    "    #date = review.find_element_by_xpath(\"div[1]/a[1]\").text\n",
    "    #stars = review.find_element_by_xpath(\"div[2]/div\").get_attribute('data-stars')\n",
    "    print(review1)"
   ]
  },
  {
   "cell_type": "code",
   "execution_count": 64,
   "metadata": {},
   "outputs": [
    {
     "name": "stdout",
     "output_type": "stream",
     "text": [
      "I have a lot of sneakers from them, and the heel part of the shoe always ends up getting holes in the back part of the shoe after a month of wearing a few times a week\n",
      "All of my Nike shoes have lasted years. I love the various styles and the comfort that every shoe has. Their sneakers are my gym go to! Tons of different styles for everyone’s needs. Highly recommend Nike brand!\n",
      "I purchase a lot of my trainers from Nike, they fit comfortably and provide enough support throughout the day. Tn’s and 97’s are my go to for work and long days out.\n",
      "Nike is very very good brands . I like this brand very..Has high quality.i love it....i recommend this brand ....\n",
      "Great quality items. Sometimes just a little pricey. The Nike outlet is reasonable and they do offer military discount which is great. Nike footwear tends to be very comfortable and the clothing is very comfortable work out gear. I recommend Nike .\n",
      "i wear nike pro leggings everyday in college! best pair of quality leggings . only problem is a bit pricy\n",
      "Nike is one of my favorite brands. Comfortable athletic clothes, accessories and sneakers! Good Quality for price \n",
      "Solid brand! Good shoes, but their shorts are my favorite!!! Especially the kind without the elastic band. Everybody loves Nike!\n",
      "Love the attire and shoes!! Can't go wrong they are what you pay for and I love my son in them!!! I know he can play for a long time and not get sore feet!\n",
      "todos amamos Nike, no conozco una persona que diga que no le gusta y es que vamos, tienen los mejores tenis deportivos para mi gusto. Son accesibles los encuentras en muchas tiendas y ademas los precios son muy considerables sin olvidar los colores que manejan.\n"
     ]
    }
   ],
   "source": [
    "#Reviews 2\n",
    "\n",
    "driver = webdriver.Firefox(executable_path=r'C:/Downloads/geckodriver.exe')  #change this line\n",
    "driver.get(\"https://www.influenster.com/reviews/nike?review_sort=most+recent&review_page=2\")\n",
    "\n",
    "for review in driver.find_elements_by_xpath(\"//div[@class='content-item-body review-item-body']\"):\n",
    "    review2 = review.find_element_by_xpath(\"div[@class='content-item-text review-text']\").text\n",
    "    #date = review.find_element_by_xpath(\"div[1]/a[1]\").text\n",
    "    #stars = review.find_element_by_xpath(\"div[2]/div\").get_attribute('data-stars')\n",
    "    print(review2)"
   ]
  },
  {
   "cell_type": "code",
   "execution_count": 65,
   "metadata": {},
   "outputs": [
    {
     "name": "stdout",
     "output_type": "stream",
     "text": [
      "Me encanta siempre que voy estoy segura que no saldré con las manos vacías, los diseños son estupendos y los precios muy accesibles, y todo sin excepción es muy cómodo \n",
      "Nike's quality is consistent. I have worn their running shoe the Pegasus for 6 years now and every new pair is always amazing.\n",
      "I love nike products, I bought a pair of running shorts that lasted me for almost 3 years and they've been my favorite comfy shorts for a while. I also love getting hats and sports bras because of how good the quality is. I recommend Nike brand 100%\n",
      "Nike is usually one of the top brands I tend to gravitate to when it comes to athletic and leisure clothing. They are always made with the best quality and always right on trend. I also really love that I can always find a great range in pricing.\n",
      "Es una marca que se caracteriza por sus bueno productos. Resistentes a todo y su gran durabilidad ademas sus precios son muy accesibles en le mercado. Tiene variedad de colores y preferencias. Super recomendada para todas las edadades.\n",
      "I love their clothing, and sneakers! They have a wide selection of running shoes that are comfortable and very stylish! Prices vary. Great quality!\n",
      "I love everything Nike. The shoes are so comfortable. The tanks and jackets fit perfect! The leggings are the perfect length for a short girl. \n",
      "I love nike. I use it to go to uni and to go out too. I love dressing casual and being comfy but stylish so nike is one of my favorite brands ever. I lov wearing its trainers and wearing its clothes. It's not really expensive and it's high quality. My brother loves it too.\n",
      "Nike is classic. Everyone has something Nike in their home or they have in the past. I like their sneakers and so does my husband. Even if their politics are not ideal for some people i am not about drama or getting into politics so i will continue to buy their sneskers if i see a pair that i happen to like.\n",
      "I love Nike sneakers and clothing it's really comfy and cute you can normally wear with for a walk or just lounging around\n"
     ]
    }
   ],
   "source": [
    "#Reviews 3\n",
    "\n",
    "driver = webdriver.Firefox(executable_path=r'C:/Downloads/geckodriver.exe')  #change this line\n",
    "driver.get(\"https://www.influenster.com/reviews/nike?review_sort=most+recent&review_page=3\")\n",
    "\n",
    "for review in driver.find_elements_by_xpath(\"//div[@class='content-item-body review-item-body']\"):\n",
    "    review3 = review.find_element_by_xpath(\"div[@class='content-item-text review-text']\").text\n",
    "    #date = review.find_element_by_xpath(\"div[1]/a[1]\").text\n",
    "    #stars = review.find_element_by_xpath(\"div[2]/div\").get_attribute('data-stars')\n",
    "    print(review3)"
   ]
  },
  {
   "cell_type": "code",
   "execution_count": 66,
   "metadata": {},
   "outputs": [
    {
     "name": "stdout",
     "output_type": "stream",
     "text": [
      "Nike is awesome my #1 favorite Brand😊👍Awesome sneakers clothing hats everything😻😍I love there huarache's 😍😍😍 and there leggings are just perfect😻 I love it 😃of course it does not need improvement its perfect❤of course I would shop here again\n",
      "Nike is amazing! The shoes are great, the athletic wear is amazing, and Nike overall is such an amazing brand! The prices can sometimes be steep, but the quality of their items make it worth the price!\n",
      "My absolutely favorite sport brand, almost all of my leggings, shoes, sport bras are from here\n",
      "I bought a nike leggeing and it is so comfortable and it makes the body look amazing i love the nike products they are fancy\n",
      "i always get nike running shoes. they’re always so cute and comfortable. never disappointed in nike. i love their trash spikes. i’ve only ever used them and they’re always long lasting and in a variety of cute colors. i’m wearing nike’s now!!\n",
      "I love all of the Nike pro products like leggings or spandex. By far my favorite athletic wear pants.\n",
      "I was the first of them who run the first opened Nike story in Georgia Batumi . Without any reason i love Nike. Just do it\n",
      "Nothing more comfortable than the clothing for exercise and is that when training is important to be known to finish satisfactorily training, I love the line of shoes, socks and obviously clothes is my favorite of all time the quality of your fabrics It is incredible they last a lot of time I recommend them.\n",
      "I like Nike there reasonably priced good quality and very comfortable and you can find worms that at just for your everyday needs\n",
      "I love the material that Nike has to offer they have every sport in their brand I love it\n"
     ]
    }
   ],
   "source": [
    "#Reviews 4\n",
    "\n",
    "driver = webdriver.Firefox(executable_path=r'C:/Downloads/geckodriver.exe')  #change this line\n",
    "driver.get(\"https://www.influenster.com/reviews/nike?review_sort=most+recent&review_page=4\")\n",
    "\n",
    "for review in driver.find_elements_by_xpath(\"//div[@class='content-item-body review-item-body']\"):\n",
    "    review4 = review.find_element_by_xpath(\"div[@class='content-item-text review-text']\").text\n",
    "    #date = review.find_element_by_xpath(\"div[1]/a[1]\").text\n",
    "    #stars = review.find_element_by_xpath(\"div[2]/div\").get_attribute('data-stars')\n",
    "    print(review4)"
   ]
  },
  {
   "cell_type": "code",
   "execution_count": 67,
   "metadata": {},
   "outputs": [
    {
     "name": "stdout",
     "output_type": "stream",
     "text": [
      "Nike has always been the only brand of tennis shoes I have never worn they have and all white high-top sneaker that I fell in love with 20-plus years ago! Believe or not all white high tops and I mean all White are next to impossible to find but Nike has them and Nike sneakers are and always have been top quality sneakers!\n",
      "I have always loved Nike, the quality is always something you can count on with this brand and you will definitely love their shoes. They are just the most comfortable ever. I have had many pairs of their shoes and I only threw them away when I completely destroyed them by walking on them everyday! 8/10 would recommend.\n",
      "Nike has always had my heart and I love how minimalistic their clothing is. I’ve had a few tops and leggings from them that are always the most comfortable items in my closet. I could live in them forever. I wish they were that expensive so I could continue to always buy from them but the few I have are enough to feed my crave for Nike. Don’t even get me started on the shoes. Best running shoes, 10/10 recommend.\n",
      "I love nikes trainers! They are great for the gym or everyday wear! Although some are quite expensive they are worth it as they last a long time and are good quality. I will be shopping there again..\n",
      "Nike gear is trully great. The fit is incredible and I consider it to be one of the top brands in sports gears not only because of the name. I use nike gear almost daily, am a huge fan of the compression shorts and the long ones. The material is very comfortable and the incredible durability of nike products I believe is what separates them from the rest.\n",
      "Me facina las zapatillas  y los diseños sobre todo la comodidad son muy buenos se los recomiendo demaciado mi impresion hacia la marca me encanto, como te atienden son muy amables y compraria definitavamente otra vez lo sugiero ;) \n",
      "Nike shoes are literally the best all around active type shoe. There are tons of options and varieties ranging from golf shoes to work boots to casual everyday wear shoes. Check them out, you won’t be disappointed!\n",
      "Got this jacket from NIKE & I love it!!!!! I never have a hard time finding things at all! The website is super easy to order from & in store, it’s even better! This jacket was super affordable, caught it on sale. This is my go to jacket!\n",
      "Nike is our all time go to brand as we have several pairs of shoes for each of us, pants Nike pro shorts, sports bras, sweatshirts, you name it we probably have it. It’s durable and comfortable.\n",
      "Súper cómodo y lindo, buena calidad y tiene muchas opciones de estilo para cada ocasión\n"
     ]
    }
   ],
   "source": [
    "#Reviews 5\n",
    "\n",
    "driver = webdriver.Firefox(executable_path=r'C:/Downloads/geckodriver.exe')  #change this line\n",
    "driver.get(\"https://www.influenster.com/reviews/nike?review_sort=most+recent&review_page=5\")\n",
    "\n",
    "for review in driver.find_elements_by_xpath(\"//div[@class='content-item-body review-item-body']\"):\n",
    "    review5 = review.find_element_by_xpath(\"div[@class='content-item-text review-text']\").text\n",
    "    #date = review.find_element_by_xpath(\"div[1]/a[1]\").text\n",
    "    #stars = review.find_element_by_xpath(\"div[2]/div\").get_attribute('data-stars')\n",
    "    print(review5)"
   ]
  },
  {
   "cell_type": "code",
   "execution_count": 69,
   "metadata": {},
   "outputs": [
    {
     "name": "stdout",
     "output_type": "stream",
     "text": [
      "In love Nike, everything they have from clothing to shoes I buy it all. I've been a loyal Nike customer since I was a kid and don't plan on stopping anytime soon.\n",
      "Nike has never let me down! Their shoes are phenomenal with great support! When you walk a lot or plan to be on your feet for long periods of time I highly suggest investing in a good quality tennis shoe. I have multiple pairs that I’ve had for years and the quality is still there.\n",
      "They are light and so comfortable. When I was a retail manager, I had to be on my feet 10 hours a day. Only shoe I never had to break in.\n",
      "Love it has nice shoes and also clothes my favorite purchase were some nike leggings\n",
      "Nike makes the best sport/workout items. I love their clothes especially their leggings. I can run and they always stay up. Their shoes are very comfortable and last a long time. Nike is a bit pricey but your paying for the high quality items so its worth it.\n",
      "Other than one other brand, Nike is the only tennis shoe I wear. They are so comfortable. No matter what the shoe is for, from work out to casual. Some of the shoes tend to get a bit on the pricey side but they have very affordable shoes also.\n",
      "Nike is classic. They have a ton of great products, shoes and clothing. It's awesome that they have great styles that are very versatile and great for more then just sports and fitness fanatics. I'm sure everyone can find a style from nike that they love.\n",
      "they’re products are usually okay. they don’t hold up as well as they used to. the shoes seem to fall apart in about six months. the clothes last longer but you the color fades over time. i would shop some where for cheaper first\n",
      "I think Nike is a great store obviously they can do a few changes. There still a good company. A lot of my friends use Nike like everyday. It makes other people was to try it. So I think they should keep doing what there doing and there going to great success!\n",
      "The Nike Outlet stores always have a sale or  good deal going on! I always find something for me and my husband when I go in! The sales people are always helpful, but they don’t follow you around. And their return policy is 🙌🏼 If their shoes come apart they’ve always given us money towards a new pair or exchanged them! \n"
     ]
    }
   ],
   "source": [
    "#Reviews 6\n",
    "\n",
    "driver = webdriver.Firefox(executable_path=r'C:/Downloads/geckodriver.exe')  #change this line\n",
    "driver.get(\"https://www.influenster.com/reviews/nike?review_sort=most+recent&review_page=6\")\n",
    "\n",
    "for review in driver.find_elements_by_xpath(\"//div[@class='content-item-body review-item-body']\"):\n",
    "    review6 = review.find_element_by_xpath(\"div[@class='content-item-text review-text']\").text\n",
    "    #date = review.find_element_by_xpath(\"div[1]/a[1]\").text\n",
    "    #stars = review.find_element_by_xpath(\"div[2]/div\").get_attribute('data-stars')\n",
    "    print(review6)"
   ]
  },
  {
   "cell_type": "code",
   "execution_count": 70,
   "metadata": {},
   "outputs": [
    {
     "name": "stdout",
     "output_type": "stream",
     "text": [
      "Recently bought Nike sneakers and I love them! They’re so comfortable and they were a good price too! Always has sales no matter what time of the year you go! Very good products as well. Definitely will continue to shop here!\n",
      "Love Nike trainers, always well made and long lasting. Great for kids trainers too, my son loves them.\n",
      "They’re expensive but worth it. Good quality shoes and clothing. They’re not obnoxious with their labels like some name brands can be.\n",
      "I love nike products. My cleats are beautiful and nice. My hoodie is really comfortable and warm. The quality of nike is really good, especially since the price is not even that high.\n",
      "Not a big fan of their unethical labour practices. The quality is questionable depending on the product, colour variations are usually black and white or shades of grey unless you’re buying dunks or Jordan’s. Women’s clothing is very predictable, boring, and usually always has something pink involved.\n",
      "I mostly use it to buy sneakers for me and my boyfriend who change them very often. They are comfortable, good quality and beautiful designs.\n",
      "Love the Nike brand very much. Very high quality for the pricey tag. Will continue to repurchase. Very comfortable and true to normal sizing and fit. Would recommend. 💕💕 very popular brand and is discounted at Marshalls\n",
      "I like Nike because I love run and a good sneaker is important to me! And I use that shoes and I don't have pain on my feet after or during my training period.\n",
      "eos® Smooth Sphere Lip BalmNike Zoom Winflo 4 Womens Running Shoes #influencer  #BirthdayBash\n",
      "I have 4 of the same pair of Nike tennis shoes because they are the only shoes I can wear that offer flexibility and arch support for HIIT trainings.\n",
      "Love Nike, most of my shoes are from them. Always fashionable, cute, and most of all comfortable. My feet hurt really easily and I can walk for hours in Nike's without major feet pain. Their clothes are also very cute and good quality. Stores in malls are usually much more expensive than outlets (stores have newer and popular things, but outlet items are just as good quality). \n"
     ]
    }
   ],
   "source": [
    "#Reviews 7\n",
    "\n",
    "driver = webdriver.Firefox(executable_path=r'C:/Downloads/geckodriver.exe')  #change this line\n",
    "driver.get(\"https://www.influenster.com/reviews/nike?review_sort=most+recent&review_page=7\")\n",
    "\n",
    "for review in driver.find_elements_by_xpath(\"//div[@class='content-item-body review-item-body']\"):\n",
    "    review7 = review.find_element_by_xpath(\"div[@class='content-item-text review-text']\").text\n",
    "    #date = review.find_element_by_xpath(\"div[1]/a[1]\").text\n",
    "    #stars = review.find_element_by_xpath(\"div[2]/div\").get_attribute('data-stars')\n",
    "    print(review7)"
   ]
  },
  {
   "cell_type": "code",
   "execution_count": 71,
   "metadata": {},
   "outputs": [
    {
     "name": "stdout",
     "output_type": "stream",
     "text": [
      "I really like Nike their clothes are very comfortable their shoes are very comfortable and if you go to the Nike outlet you’re going to get a really good deal\n",
      "I do love Nike. I uses to not like them until I tried in a pair of their nike knit fit shoes and let me tell you... they’re my favorite shoes. They’re so comfy. They fit like socks. They match all my little workout outfits and they’re just so damn adorable. I hope they never stop making them.\n",
      "I run a lot, so workout clothes is important to me. The leggings stay up and don’t fall down when I run, which is one of my main things I look for when I buy leggings. There are many styles that is for everyone. I would recommend this brand to anyone\n",
      "Nike is only ok. The quality of their merchandise has really gone down hill in the last 20 years. Crappy quality for double the price??? No thanks. \n",
      "This brand is one of a kind ! The quality is amazing and Kind of expensive but worth it\n",
      "Love their trainers, very comfortable, a little bit expensive but worth the money, as if looked after properly they last a long time\n",
      "I love the Nike product I never have to worry about them falling apart I wouldn’t improve nothing. I like the products I purchase from there I am a repeat user and suggest this to anybody to buy\n",
      "Obsessed with Nike. It’s the only place I’ll buy running shoes from!!! Always have new super cute styles and they last FOREVER.\n",
      "Buy running shoes way too often from here, but would never purchase anywhere else. I like to buy the last year's model. Every year the shoes get better and better, lighter and lighter. Love my Nike running shoes and will always buy them. So comfortable!\n",
      "All the Nike items are fabulous, I love the shoes are very comfortable and durable, the clothes are great because it helps me to move without feeling uncomfortable, the whole line of women's clothing is great, I love it and I always tell my friends that Use them because they are amazing\n"
     ]
    }
   ],
   "source": [
    "#Reviews 8\n",
    "\n",
    "driver = webdriver.Firefox(executable_path=r'C:/Downloads/geckodriver.exe')  #change this line\n",
    "driver.get(\"https://www.influenster.com/reviews/nike?review_sort=most+recent&review_page=8\")\n",
    "\n",
    "for review in driver.find_elements_by_xpath(\"//div[@class='content-item-body review-item-body']\"):\n",
    "    review8 = review.find_element_by_xpath(\"div[@class='content-item-text review-text']\").text\n",
    "    #date = review.find_element_by_xpath(\"div[1]/a[1]\").text\n",
    "    #stars = review.find_element_by_xpath(\"div[2]/div\").get_attribute('data-stars')\n",
    "    print(review8)"
   ]
  },
  {
   "cell_type": "code",
   "execution_count": 72,
   "metadata": {},
   "outputs": [
    {
     "name": "stdout",
     "output_type": "stream",
     "text": [
      "Great products, a little pricey but it’s amazing. It’s one of the stores I shop at a lot. It would be nice if there were smaller sizes! ❤️💯⭐️\n",
      "I have been a repeat customer of Nike. I love my super comfy, lightweight running shoes, my high top Jordans and Air Force 1’s. I gave a star off because they are a bit pricey but hey its Nike.\n",
      "Nike shoes are very comfortable! I really like them, and they are pretty affordable, too! I have bought their lifestyle and running shoes for a couple years now, and every pair I have gotten has worked out for me! I would recommend this store.\n",
      "Love the sneakers but they are so dang expensive. Most of my Nike sneakers really last though so I don’t totally mind the price\n",
      "The ONLY trainer brand I own. Comfortable, stylish and always creating new styles. Even with Nike ID such a good touch to personalise items. Pros - comfort and style. Cons - can be quite expensive especially if buying trainers regularly\n",
      "Nike is my favourite sports brand and I shop here very often. The most I like shoes Nike AirMax 90, Roshe One, Kaishi. The quality was Perfect, now it is a Little bit poorer but comparing to other brands still very Good.\n",
      "I have always been a big Nike customer but now I’m not excited to get a product but now I’m also proud of my purchase. To support a company that stands for freedom. Nike has always been top of the charts. But this moment they have created a whole new level of success. They have been making big money moves. I recommend buying stock!\n",
      "I love all the variety of Nike products, I feel they are a bit more expensive but I still purchase shoes the most\n",
      "Love their sneakers.. they not only look great but are super comfortable to wear to the gym or work since my job is pretty active .\n",
      "I’ve always been a fan of this brand, specially their shoes & workout wear. I recommend it\n"
     ]
    }
   ],
   "source": [
    "#Reviews 9\n",
    "\n",
    "driver = webdriver.Firefox(executable_path=r'C:/Downloads/geckodriver.exe')  #change this line\n",
    "driver.get(\"https://www.influenster.com/reviews/nike?review_sort=most+recent&review_page=9\")\n",
    "\n",
    "for review in driver.find_elements_by_xpath(\"//div[@class='content-item-body review-item-body']\"):\n",
    "    review9 = review.find_element_by_xpath(\"div[@class='content-item-text review-text']\").text\n",
    "    #date = review.find_element_by_xpath(\"div[1]/a[1]\").text\n",
    "    #stars = review.find_element_by_xpath(\"div[2]/div\").get_attribute('data-stars')\n",
    "    print(review9)"
   ]
  },
  {
   "cell_type": "code",
   "execution_count": 73,
   "metadata": {},
   "outputs": [
    {
     "name": "stdout",
     "output_type": "stream",
     "text": [
      "Love Nike one of my favorite sports brands really dear but worth it not a big fan of there new trainers thought would rather their old air max some of the clothes and shoes are really expensive and ain’t even nice\n",
      "Love the shoe fit and the design is great, but for the price I paid I think they could be made with a better quality. My shoes only last 1 year and I only wear them while working out, never for a random day.\n",
      "Nike ❤️💎🔥 my favorite brand for life, I love clothes but especially my favorite Nike tennis shoes and it's the brand I grew up with, good quality and good prices!\n",
      "Always my favourite sport shoe brand when I'm looking for a great quality product for the amount of wear and tear I put my exercise apparel through.\n",
      "Absolutely love Nike! They have really nice products! Its very affordable! They have the best shoes and active wear.\n",
      "Amazing quality of athletic wear. You can really buy anything even if you don’t workout or play sports. It’s very comfortable and breathable if you do workout/play sports. It’s a fitness brand my closet is full of!\n",
      "Go to store for shoes and workout apparel! Clothing always lasts longer than other brands.\n",
      "They always come out with the cutest work out gear hands down! It is pricey and not always the best quality but who doesn’t want to rep Nike Gear. I get excited every time i get new Nike Gear.\n",
      "Oooh girl i love everything they have. My wardrobe is full of Nike. It is not very expensive but the quality great\n",
      "I have a sneaker obsession. Always choose NIKE to get my sneakers and I literally wear my black classic pair Everyday\n"
     ]
    }
   ],
   "source": [
    "#Reviews 10\n",
    "\n",
    "driver = webdriver.Firefox(executable_path=r'C:/Downloads/geckodriver.exe')  #change this line\n",
    "driver.get(\"https://www.influenster.com/reviews/nike?review_sort=most+recent&review_page=10\")\n",
    "\n",
    "for review in driver.find_elements_by_xpath(\"//div[@class='content-item-body review-item-body']\"):\n",
    "    review10 = review.find_element_by_xpath(\"div[@class='content-item-text review-text']\").text\n",
    "    #date = review.find_element_by_xpath(\"div[1]/a[1]\").text\n",
    "    #stars = review.find_element_by_xpath(\"div[2]/div\").get_attribute('data-stars')\n",
    "    print(review10)"
   ]
  },
  {
   "cell_type": "code",
   "execution_count": 75,
   "metadata": {
    "scrolled": true
   },
   "outputs": [
    {
     "name": "stdout",
     "output_type": "stream",
     "text": [
      "5\n",
      "None\n",
      "4\n",
      "5\n",
      "5\n",
      "4\n",
      "5\n",
      "5\n",
      "5\n",
      "5\n"
     ]
    }
   ],
   "source": [
    "#Amount of Stars 1\n",
    "\n",
    "driver = webdriver.Firefox(executable_path=r'C:/Downloads/geckodriver.exe')  #change this line\n",
    "driver.get(\"https://www.influenster.com/reviews/nike?review_sort=most+recent\")\n",
    "\n",
    "for review in driver.find_elements_by_xpath(\"//div[@class='content-item-body review-item-body']\"):\n",
    "    #review = review.find_element_by_xpath(\"div[@class='content-item-text review-text']\").text\n",
    "    #date = review.find_element_by_xpath(\"div[1]/a[1]\").text\n",
    "    stars1 = review.find_element_by_xpath(\"div[2]/div\").get_attribute('data-stars')\n",
    "    print(stars1)"
   ]
  },
  {
   "cell_type": "code",
   "execution_count": 76,
   "metadata": {},
   "outputs": [
    {
     "name": "stdout",
     "output_type": "stream",
     "text": [
      "3\n",
      "5\n",
      "5\n",
      "5\n",
      "3\n",
      "4\n",
      "5\n",
      "5\n",
      "5\n",
      "5\n"
     ]
    }
   ],
   "source": [
    "#Amount of Stars 2\n",
    "\n",
    "driver = webdriver.Firefox(executable_path=r'C:/Downloads/geckodriver.exe')  #change this line\n",
    "driver.get(\"https://www.influenster.com/reviews/nike?review_sort=most+recent&review_page=2\")\n",
    "\n",
    "for review in driver.find_elements_by_xpath(\"//div[@class='content-item-body review-item-body']\"):\n",
    "    #review = review.find_element_by_xpath(\"div[@class='content-item-text review-text']\").text\n",
    "    #date = review.find_element_by_xpath(\"div[1]/a[1]\").text\n",
    "    stars2 = review.find_element_by_xpath(\"div[2]/div\").get_attribute('data-stars')\n",
    "    print(stars2)"
   ]
  },
  {
   "cell_type": "code",
   "execution_count": 77,
   "metadata": {},
   "outputs": [
    {
     "name": "stdout",
     "output_type": "stream",
     "text": [
      "5\n",
      "5\n",
      "5\n",
      "5\n",
      "5\n",
      "5\n",
      "5\n",
      "5\n",
      "4\n",
      "5\n"
     ]
    }
   ],
   "source": [
    "#Amount of Stars 3\n",
    "\n",
    "driver = webdriver.Firefox(executable_path=r'C:/Downloads/geckodriver.exe')  #change this line\n",
    "driver.get(\"https://www.influenster.com/reviews/nike?review_sort=most+recent&review_page=3\")\n",
    "\n",
    "for review in driver.find_elements_by_xpath(\"//div[@class='content-item-body review-item-body']\"):\n",
    "    #review = review.find_element_by_xpath(\"div[@class='content-item-text review-text']\").text\n",
    "    #date = review.find_element_by_xpath(\"div[1]/a[1]\").text\n",
    "    stars3 = review.find_element_by_xpath(\"div[2]/div\").get_attribute('data-stars')\n",
    "    print(stars3)"
   ]
  },
  {
   "cell_type": "code",
   "execution_count": 78,
   "metadata": {},
   "outputs": [
    {
     "name": "stdout",
     "output_type": "stream",
     "text": [
      "5\n",
      "5\n",
      "5\n",
      "5\n",
      "5\n",
      "5\n",
      "5\n",
      "5\n",
      "2\n",
      "5\n"
     ]
    }
   ],
   "source": [
    "#Amount of Stars 4\n",
    "\n",
    "driver = webdriver.Firefox(executable_path=r'C:/Downloads/geckodriver.exe')  #change this line\n",
    "driver.get(\"https://www.influenster.com/reviews/nike?review_sort=most+recent&review_page=4\")\n",
    "\n",
    "for review in driver.find_elements_by_xpath(\"//div[@class='content-item-body review-item-body']\"):\n",
    "    #review = review.find_element_by_xpath(\"div[@class='content-item-text review-text']\").text\n",
    "    #date = review.find_element_by_xpath(\"div[1]/a[1]\").text\n",
    "    stars4 = review.find_element_by_xpath(\"div[2]/div\").get_attribute('data-stars')\n",
    "    print(stars4)"
   ]
  },
  {
   "cell_type": "code",
   "execution_count": 79,
   "metadata": {},
   "outputs": [
    {
     "name": "stdout",
     "output_type": "stream",
     "text": [
      "5\n",
      "4\n",
      "5\n",
      "5\n",
      "5\n",
      "5\n",
      "5\n",
      "None\n",
      "5\n",
      "5\n"
     ]
    }
   ],
   "source": [
    "#Amount of Stars 5\n",
    "\n",
    "driver = webdriver.Firefox(executable_path=r'C:/Downloads/geckodriver.exe')  #change this line\n",
    "driver.get(\"https://www.influenster.com/reviews/nike?review_sort=most+recent&review_page=5\")\n",
    "\n",
    "for review in driver.find_elements_by_xpath(\"//div[@class='content-item-body review-item-body']\"):\n",
    "    #review = review.find_element_by_xpath(\"div[@class='content-item-text review-text']\").text\n",
    "    #date = review.find_element_by_xpath(\"div[1]/a[1]\").text\n",
    "    stars5 = review.find_element_by_xpath(\"div[2]/div\").get_attribute('data-stars')\n",
    "    print(stars5)"
   ]
  },
  {
   "cell_type": "code",
   "execution_count": 80,
   "metadata": {},
   "outputs": [
    {
     "name": "stdout",
     "output_type": "stream",
     "text": [
      "5\n",
      "5\n",
      "5\n",
      "5\n",
      "5\n",
      "5\n",
      "5\n",
      "2\n",
      "5\n",
      "5\n"
     ]
    }
   ],
   "source": [
    "#Amount of Stars 6\n",
    "\n",
    "driver = webdriver.Firefox(executable_path=r'C:/Downloads/geckodriver.exe')  #change this line\n",
    "driver.get(\"https://www.influenster.com/reviews/nike?review_sort=most+recent&review_page=6\")\n",
    "\n",
    "for review in driver.find_elements_by_xpath(\"//div[@class='content-item-body review-item-body']\"):\n",
    "    #review = review.find_element_by_xpath(\"div[@class='content-item-text review-text']\").text\n",
    "    #date = review.find_element_by_xpath(\"div[1]/a[1]\").text\n",
    "    stars6 = review.find_element_by_xpath(\"div[2]/div\").get_attribute('data-stars')\n",
    "    print(stars6)"
   ]
  },
  {
   "cell_type": "code",
   "execution_count": 81,
   "metadata": {},
   "outputs": [
    {
     "name": "stdout",
     "output_type": "stream",
     "text": [
      "5\n",
      "5\n",
      "5\n",
      "4\n",
      "3\n",
      "5\n",
      "5\n",
      "None\n",
      "5\n",
      "5\n"
     ]
    }
   ],
   "source": [
    "#Amount of Stars 7\n",
    "\n",
    "driver = webdriver.Firefox(executable_path=r'C:/Downloads/geckodriver.exe')  #change this line\n",
    "driver.get(\"https://www.influenster.com/reviews/nike?review_sort=most+recent&review_page=7\")\n",
    "\n",
    "for review in driver.find_elements_by_xpath(\"//div[@class='content-item-body review-item-body']\"):\n",
    "    #review = review.find_element_by_xpath(\"div[@class='content-item-text review-text']\").text\n",
    "    #date = review.find_element_by_xpath(\"div[1]/a[1]\").text\n",
    "    stars7 = review.find_element_by_xpath(\"div[2]/div\").get_attribute('data-stars')\n",
    "    print(stars7)"
   ]
  },
  {
   "cell_type": "code",
   "execution_count": 82,
   "metadata": {},
   "outputs": [
    {
     "name": "stdout",
     "output_type": "stream",
     "text": [
      "5\n",
      "5\n",
      "5\n",
      "2\n",
      "5\n",
      "5\n",
      "5\n",
      "5\n",
      "5\n",
      "5\n"
     ]
    }
   ],
   "source": [
    "#Amount of Stars 8\n",
    "\n",
    "driver = webdriver.Firefox(executable_path=r'C:/Downloads/geckodriver.exe')  #change this line\n",
    "driver.get(\"https://www.influenster.com/reviews/nike?review_sort=most+recent&review_page=8\")\n",
    "\n",
    "for review in driver.find_elements_by_xpath(\"//div[@class='content-item-body review-item-body']\"):\n",
    "    #review = review.find_element_by_xpath(\"div[@class='content-item-text review-text']\").text\n",
    "    #date = review.find_element_by_xpath(\"div[1]/a[1]\").text\n",
    "    stars8 = review.find_element_by_xpath(\"div[2]/div\").get_attribute('data-stars')\n",
    "    print(stars8)"
   ]
  },
  {
   "cell_type": "code",
   "execution_count": 83,
   "metadata": {},
   "outputs": [
    {
     "name": "stdout",
     "output_type": "stream",
     "text": [
      "5\n",
      "4\n",
      "4\n",
      "3\n",
      "5\n",
      "5\n",
      "5\n",
      "3\n",
      "5\n",
      "5\n"
     ]
    }
   ],
   "source": [
    "#Amount of Stars 9\n",
    "\n",
    "driver = webdriver.Firefox(executable_path=r'C:/Downloads/geckodriver.exe')  #change this line\n",
    "driver.get(\"https://www.influenster.com/reviews/nike?review_sort=most+recent&review_page=9\")\n",
    "\n",
    "for review in driver.find_elements_by_xpath(\"//div[@class='content-item-body review-item-body']\"):\n",
    "    #review = review.find_element_by_xpath(\"div[@class='content-item-text review-text']\").text\n",
    "    #date = review.find_element_by_xpath(\"div[1]/a[1]\").text\n",
    "    stars9 = review.find_element_by_xpath(\"div[2]/div\").get_attribute('data-stars')\n",
    "    print(stars9)"
   ]
  },
  {
   "cell_type": "code",
   "execution_count": 84,
   "metadata": {},
   "outputs": [
    {
     "name": "stdout",
     "output_type": "stream",
     "text": [
      "4\n",
      "5\n",
      "5\n",
      "5\n",
      "5\n",
      "5\n",
      "5\n",
      "4\n",
      "5\n",
      "5\n"
     ]
    }
   ],
   "source": [
    "#Amount of Stars 10\n",
    "\n",
    "driver = webdriver.Firefox(executable_path=r'C:/Downloads/geckodriver.exe')  #change this line\n",
    "driver.get(\"https://www.influenster.com/reviews/nike?review_sort=most+recent&review_page=10\")\n",
    "\n",
    "for review in driver.find_elements_by_xpath(\"//div[@class='content-item-body review-item-body']\"):\n",
    "    #review = review.find_element_by_xpath(\"div[@class='content-item-text review-text']\").text\n",
    "    #date = review.find_element_by_xpath(\"div[1]/a[1]\").text\n",
    "    stars10 = review.find_element_by_xpath(\"div[2]/div\").get_attribute('data-stars')\n",
    "    print(stars10)"
   ]
  },
  {
   "cell_type": "markdown",
   "metadata": {},
   "source": [
    "# Secion 6: Sentiment Analysis Bing Liu"
   ]
  },
  {
   "cell_type": "code",
   "execution_count": 85,
   "metadata": {},
   "outputs": [],
   "source": [
    "#import packages\n",
    "import nltk\n",
    "from nltk import FreqDist, word_tokenize\n",
    "from nltk.stem.porter import PorterStemmer\n",
    "from nltk.stem import WordNetLemmatizer\n",
    "from nltk.sentiment.vader import SentimentIntensityAnalyzer\n",
    "vs = SentimentIntensityAnalyzer()\n",
    "import re\n",
    "import csv\n",
    "import pandas as pd\n",
    "import matplotlib.pyplot as plt\n",
    "%matplotlib inline\n",
    "from collections import Counter"
   ]
  },
  {
   "cell_type": "code",
   "execution_count": 95,
   "metadata": {},
   "outputs": [],
   "source": [
    "openfile = open(\"nike_reviews.csv\", \"r\")\n",
    "r = csv.reader(openfile)\n",
    "reviews = []\n",
    "for i in r:\n",
    "    reviews.append(i)\n",
    "openfile.close()\n",
    "\n",
    "#remove the extra bracket\n",
    "reviews = [x for y in reviews for x in y]\n",
    "# Remove useless numbers and alphanumerical words\n",
    "documents = [re.sub(\"[^a-zA-Z]+\", \" \", document) for document in reviews]\n",
    "# tokenize\n",
    "texts = [[word for word in document.lower().split() ] for document in documents]\n",
    "\n",
    "#Bing-Liu lexicon (positive word list & negative word list)\n",
    "positive_words = open(\"data/positive-words.txt\", \"r\").read().splitlines()\n",
    "negative_words = open(\"data/negative-words.txt\", \"r\").read().splitlines()\n",
    "\n",
    "positive_review = []\n",
    "negative_review = []\n",
    "neutral_review = []\n",
    "\n",
    "for sentence in texts:\n",
    "    positive = 0\n",
    "    negative = 0\n",
    "    for word in sentence:\n",
    "        if word in positive_words:\n",
    "            positive += 1\n",
    "        elif word in negative_words:\n",
    "            negative += 1\n",
    "    if positive-negative > 0:\n",
    "        positive_review.append(sentence)\n",
    "    elif positive-negative == 0:\n",
    "        neutral_review.append(sentence)\n",
    "    else:\n",
    "        negative_review.append(sentence)"
   ]
  },
  {
   "cell_type": "code",
   "execution_count": 96,
   "metadata": {},
   "outputs": [
    {
     "name": "stdout",
     "output_type": "stream",
     "text": [
      "88\n",
      "3\n",
      "10\n"
     ]
    }
   ],
   "source": [
    "#list positive, negative, and neutral reviews\n",
    "print(len(positive_review))\n",
    "print(len(negative_review))\n",
    "print(len(neutral_review))"
   ]
  },
  {
   "cell_type": "markdown",
   "metadata": {},
   "source": [
    "#### According to Bing Liu Analysis, there are 88 positive reviews, 3 negative reviews, and 10 neutral reviews."
   ]
  },
  {
   "cell_type": "code",
   "execution_count": 178,
   "metadata": {},
   "outputs": [
    {
     "data": {
      "text/html": [
       "<div>\n",
       "<style scoped>\n",
       "    .dataframe tbody tr th:only-of-type {\n",
       "        vertical-align: middle;\n",
       "    }\n",
       "\n",
       "    .dataframe tbody tr th {\n",
       "        vertical-align: top;\n",
       "    }\n",
       "\n",
       "    .dataframe thead th {\n",
       "        text-align: right;\n",
       "    }\n",
       "</style>\n",
       "<table border=\"1\" class=\"dataframe\">\n",
       "  <thead>\n",
       "    <tr style=\"text-align: right;\">\n",
       "      <th></th>\n",
       "      <th>0</th>\n",
       "    </tr>\n",
       "  </thead>\n",
       "  <tbody>\n",
       "    <tr>\n",
       "      <th>0</th>\n",
       "      <td>Nike ?? my favorite brand not only shoes , it has an excellent athletic products that i have been using .</td>\n",
       "    </tr>\n",
       "    <tr>\n",
       "      <th>1</th>\n",
       "      <td>We love Nike in our house. And 100% support their campaign. My son wears Nike almost everyday. The quality of the clothes and shoes are outstanding. They last for a really long time. The airwick material drys fast. While it is a bit pricey but in this case you pay for what you get. I just recently bought a Nike bathing suit and its amazing. Very high quality compared to most bathing suits and its super cute. I would highly recommend. And will be buying again.</td>\n",
       "    </tr>\n",
       "    <tr>\n",
       "      <th>2</th>\n",
       "      <td>I like nike I really do however sometimes I feel like the quality has gone down some. I dont like to feel as if I'm just paying for a name I actually want good quality clothes if I'm spending a lot of money. Some shirts that I have just dont last and the shoes also seem to get run down quick. Their kids clothes seem to fair a lot better</td>\n",
       "    </tr>\n",
       "    <tr>\n",
       "      <th>3</th>\n",
       "      <td>Amo sus maletas, mochilas, tenis, short. Aunque sea deportivo, combina muy bien con algo casual ????</td>\n",
       "    </tr>\n",
       "    <tr>\n",
       "      <th>4</th>\n",
       "      <td>No he has good things for kids women and men and they also have a good clearance rack if you really look</td>\n",
       "    </tr>\n",
       "  </tbody>\n",
       "</table>\n",
       "</div>"
      ],
      "text/plain": [
       "                                                                                                                                                                                                                                                                                                                                                                                                                                                                                 0\n",
       "0  Nike ?? my favorite brand not only shoes , it has an excellent athletic products that i have been using .                                                                                                                                                                                                                                                                                                                                                                      \n",
       "1  We love Nike in our house. And 100% support their campaign. My son wears Nike almost everyday. The quality of the clothes and shoes are outstanding. They last for a really long time. The airwick material drys fast. While it is a bit pricey but in this case you pay for what you get. I just recently bought a Nike bathing suit and its amazing. Very high quality compared to most bathing suits and its super cute. I would highly recommend. And will be buying again.\n",
       "2  I like nike I really do however sometimes I feel like the quality has gone down some. I dont like to feel as if I'm just paying for a name I actually want good quality clothes if I'm spending a lot of money. Some shirts that I have just dont last and the shoes also seem to get run down quick. Their kids clothes seem to fair a lot better                                                                                                                             \n",
       "3  Amo sus maletas, mochilas, tenis, short. Aunque sea deportivo, combina muy bien con algo casual ????                                                                                                                                                                                                                                                                                                                                                                           \n",
       "4  No he has good things for kids women and men and they also have a good clearance rack if you really look                                                                                                                                                                                                                                                                                                                                                                       "
      ]
     },
     "execution_count": 178,
     "metadata": {},
     "output_type": "execute_result"
    }
   ],
   "source": [
    "# import text data (csv) as a dataframe\n",
    "\n",
    "import re\n",
    "import pandas as pd\n",
    "\n",
    "import nltk\n",
    "from nltk.corpus import stopwords\n",
    "\n",
    "df2 = pd.read_csv(\"nike_reviews1.csv\", header=None)\n",
    "df2.head(5)"
   ]
  },
  {
   "cell_type": "code",
   "execution_count": 179,
   "metadata": {},
   "outputs": [
    {
     "data": {
      "text/html": [
       "<div>\n",
       "<style scoped>\n",
       "    .dataframe tbody tr th:only-of-type {\n",
       "        vertical-align: middle;\n",
       "    }\n",
       "\n",
       "    .dataframe tbody tr th {\n",
       "        vertical-align: top;\n",
       "    }\n",
       "\n",
       "    .dataframe thead th {\n",
       "        text-align: right;\n",
       "    }\n",
       "</style>\n",
       "<table border=\"1\" class=\"dataframe\">\n",
       "  <thead>\n",
       "    <tr style=\"text-align: right;\">\n",
       "      <th></th>\n",
       "      <th>Review</th>\n",
       "    </tr>\n",
       "  </thead>\n",
       "  <tbody>\n",
       "    <tr>\n",
       "      <th>0</th>\n",
       "      <td>Nike ?? my favorite brand not only shoes , it has an excellent athletic products that i have been using .</td>\n",
       "    </tr>\n",
       "    <tr>\n",
       "      <th>1</th>\n",
       "      <td>We love Nike in our house. And 100% support their campaign. My son wears Nike almost everyday. The quality of the clothes and shoes are outstanding. They last for a really long time. The airwick material drys fast. While it is a bit pricey but in this case you pay for what you get. I just recently bought a Nike bathing suit and its amazing. Very high quality compared to most bathing suits and its super cute. I would highly recommend. And will be buying again.</td>\n",
       "    </tr>\n",
       "    <tr>\n",
       "      <th>2</th>\n",
       "      <td>I like nike I really do however sometimes I feel like the quality has gone down some. I dont like to feel as if I'm just paying for a name I actually want good quality clothes if I'm spending a lot of money. Some shirts that I have just dont last and the shoes also seem to get run down quick. Their kids clothes seem to fair a lot better</td>\n",
       "    </tr>\n",
       "    <tr>\n",
       "      <th>3</th>\n",
       "      <td>Amo sus maletas, mochilas, tenis, short. Aunque sea deportivo, combina muy bien con algo casual ????</td>\n",
       "    </tr>\n",
       "    <tr>\n",
       "      <th>4</th>\n",
       "      <td>No he has good things for kids women and men and they also have a good clearance rack if you really look</td>\n",
       "    </tr>\n",
       "  </tbody>\n",
       "</table>\n",
       "</div>"
      ],
      "text/plain": [
       "                                                                                                                                                                                                                                                                                                                                                                                                                                                                            Review\n",
       "0  Nike ?? my favorite brand not only shoes , it has an excellent athletic products that i have been using .                                                                                                                                                                                                                                                                                                                                                                      \n",
       "1  We love Nike in our house. And 100% support their campaign. My son wears Nike almost everyday. The quality of the clothes and shoes are outstanding. They last for a really long time. The airwick material drys fast. While it is a bit pricey but in this case you pay for what you get. I just recently bought a Nike bathing suit and its amazing. Very high quality compared to most bathing suits and its super cute. I would highly recommend. And will be buying again.\n",
       "2  I like nike I really do however sometimes I feel like the quality has gone down some. I dont like to feel as if I'm just paying for a name I actually want good quality clothes if I'm spending a lot of money. Some shirts that I have just dont last and the shoes also seem to get run down quick. Their kids clothes seem to fair a lot better                                                                                                                             \n",
       "3  Amo sus maletas, mochilas, tenis, short. Aunque sea deportivo, combina muy bien con algo casual ????                                                                                                                                                                                                                                                                                                                                                                           \n",
       "4  No he has good things for kids women and men and they also have a good clearance rack if you really look                                                                                                                                                                                                                                                                                                                                                                       "
      ]
     },
     "execution_count": 179,
     "metadata": {},
     "output_type": "execute_result"
    }
   ],
   "source": [
    "df2 = df.rename(columns={0: 'Review'})\n",
    "df2.head(5)"
   ]
  },
  {
   "cell_type": "code",
   "execution_count": 180,
   "metadata": {},
   "outputs": [],
   "source": [
    "#Pattern"
   ]
  },
  {
   "cell_type": "code",
   "execution_count": 181,
   "metadata": {},
   "outputs": [
    {
     "data": {
      "text/html": [
       "<div>\n",
       "<style scoped>\n",
       "    .dataframe tbody tr th:only-of-type {\n",
       "        vertical-align: middle;\n",
       "    }\n",
       "\n",
       "    .dataframe tbody tr th {\n",
       "        vertical-align: top;\n",
       "    }\n",
       "\n",
       "    .dataframe thead th {\n",
       "        text-align: right;\n",
       "    }\n",
       "</style>\n",
       "<table border=\"1\" class=\"dataframe\">\n",
       "  <thead>\n",
       "    <tr style=\"text-align: right;\">\n",
       "      <th></th>\n",
       "      <th>Review</th>\n",
       "      <th>p_sent_score</th>\n",
       "    </tr>\n",
       "  </thead>\n",
       "  <tbody>\n",
       "    <tr>\n",
       "      <th>0</th>\n",
       "      <td>Nike ?? my favorite brand not only shoes , it has an excellent athletic products that i have been using .</td>\n",
       "      <td>(0.5, 1.0)</td>\n",
       "    </tr>\n",
       "    <tr>\n",
       "      <th>1</th>\n",
       "      <td>We love Nike in our house. And 100% support their campaign. My son wears Nike almost everyday. The quality of the clothes and shoes are outstanding. They last for a really long time. The airwick material drys fast. While it is a bit pricey but in this case you pay for what you get. I just recently bought a Nike bathing suit and its amazing. Very high quality compared to most bathing suits and its super cute. I would highly recommend. And will be buying again.</td>\n",
       "      <td>(0.25010256410256415, 0.5923333333333334)</td>\n",
       "    </tr>\n",
       "    <tr>\n",
       "      <th>2</th>\n",
       "      <td>I like nike I really do however sometimes I feel like the quality has gone down some. I dont like to feel as if I'm just paying for a name I actually want good quality clothes if I'm spending a lot of money. Some shirts that I have just dont last and the shoes also seem to get run down quick. Their kids clothes seem to fair a lot better</td>\n",
       "      <td>(0.2358024691358024, 0.3827160493827161)</td>\n",
       "    </tr>\n",
       "    <tr>\n",
       "      <th>3</th>\n",
       "      <td>Amo sus maletas, mochilas, tenis, short. Aunque sea deportivo, combina muy bien con algo casual ????</td>\n",
       "      <td>(-0.25000000000000006, 0.5833333333333334)</td>\n",
       "    </tr>\n",
       "    <tr>\n",
       "      <th>4</th>\n",
       "      <td>No he has good things for kids women and men and they also have a good clearance rack if you really look</td>\n",
       "      <td>(0.5333333333333333, 0.46666666666666673)</td>\n",
       "    </tr>\n",
       "  </tbody>\n",
       "</table>\n",
       "</div>"
      ],
      "text/plain": [
       "                                                                                                                                                                                                                                                                                                                                                                                                                                                                            Review  \\\n",
       "0  Nike ?? my favorite brand not only shoes , it has an excellent athletic products that i have been using .                                                                                                                                                                                                                                                                                                                                                                         \n",
       "1  We love Nike in our house. And 100% support their campaign. My son wears Nike almost everyday. The quality of the clothes and shoes are outstanding. They last for a really long time. The airwick material drys fast. While it is a bit pricey but in this case you pay for what you get. I just recently bought a Nike bathing suit and its amazing. Very high quality compared to most bathing suits and its super cute. I would highly recommend. And will be buying again.   \n",
       "2  I like nike I really do however sometimes I feel like the quality has gone down some. I dont like to feel as if I'm just paying for a name I actually want good quality clothes if I'm spending a lot of money. Some shirts that I have just dont last and the shoes also seem to get run down quick. Their kids clothes seem to fair a lot better                                                                                                                                \n",
       "3  Amo sus maletas, mochilas, tenis, short. Aunque sea deportivo, combina muy bien con algo casual ????                                                                                                                                                                                                                                                                                                                                                                              \n",
       "4  No he has good things for kids women and men and they also have a good clearance rack if you really look                                                                                                                                                                                                                                                                                                                                                                          \n",
       "\n",
       "                                 p_sent_score  \n",
       "0  (0.5, 1.0)                                  \n",
       "1  (0.25010256410256415, 0.5923333333333334)   \n",
       "2  (0.2358024691358024, 0.3827160493827161)    \n",
       "3  (-0.25000000000000006, 0.5833333333333334)  \n",
       "4  (0.5333333333333333, 0.46666666666666673)   "
      ]
     },
     "execution_count": 181,
     "metadata": {},
     "output_type": "execute_result"
    }
   ],
   "source": [
    "# create a new column with pattern sentiment score-sentiment,subjectivity\n",
    "from pattern.en import sentiment\n",
    "sen= sentiment\n",
    "\n",
    "df2['p_sent_score'] = df2['Review'].apply(lambda x: sen(x))\n",
    "df2.head(5)"
   ]
  },
  {
   "cell_type": "code",
   "execution_count": 182,
   "metadata": {},
   "outputs": [],
   "source": [
    "#convert pattern sentiment score column to string\n",
    "df2['p_sent_score'] = df2['p_sent_score'].astype(str)"
   ]
  },
  {
   "cell_type": "code",
   "execution_count": 183,
   "metadata": {},
   "outputs": [],
   "source": [
    "#remove paraenthensis from pattern sentiment score\n",
    "df2['p_sent_score'] = df2['p_sent_score'].map(lambda x: x.lstrip(\"(/)\"))"
   ]
  },
  {
   "cell_type": "code",
   "execution_count": 184,
   "metadata": {},
   "outputs": [],
   "source": [
    "#create a new dataframe with pattern sentiment scores\n",
    "p_sent_score = df2['p_sent_score'].str.split(\",\", n = 1, expand = True)"
   ]
  },
  {
   "cell_type": "code",
   "execution_count": 185,
   "metadata": {},
   "outputs": [],
   "source": [
    "#remove last parenthesis from pattern sentiment score\n",
    "p_sent_score[1] = p_sent_score[1].astype(str).str[:-1]"
   ]
  },
  {
   "cell_type": "code",
   "execution_count": 186,
   "metadata": {},
   "outputs": [],
   "source": [
    "#create separate columns for pattern sentiment and subjectivity scores\n",
    "p_sent_score= p_sent_score.rename(columns= {0:'p_sent', 1:'p_subj_score'})"
   ]
  },
  {
   "cell_type": "code",
   "execution_count": 187,
   "metadata": {},
   "outputs": [],
   "source": [
    "#merge pattern sentiment scores to dataframe\n",
    "df2=pd.merge(df2,p_sent_score,left_index=True, right_index=True)"
   ]
  },
  {
   "cell_type": "code",
   "execution_count": 188,
   "metadata": {},
   "outputs": [
    {
     "data": {
      "text/html": [
       "<div>\n",
       "<style scoped>\n",
       "    .dataframe tbody tr th:only-of-type {\n",
       "        vertical-align: middle;\n",
       "    }\n",
       "\n",
       "    .dataframe tbody tr th {\n",
       "        vertical-align: top;\n",
       "    }\n",
       "\n",
       "    .dataframe thead th {\n",
       "        text-align: right;\n",
       "    }\n",
       "</style>\n",
       "<table border=\"1\" class=\"dataframe\">\n",
       "  <thead>\n",
       "    <tr style=\"text-align: right;\">\n",
       "      <th></th>\n",
       "      <th>Review</th>\n",
       "      <th>p_sent</th>\n",
       "      <th>p_subj_score</th>\n",
       "    </tr>\n",
       "  </thead>\n",
       "  <tbody>\n",
       "    <tr>\n",
       "      <th>0</th>\n",
       "      <td>Nike ?? my favorite brand not only shoes , it has an excellent athletic products that i have been using .</td>\n",
       "      <td>0.5</td>\n",
       "      <td>1.0</td>\n",
       "    </tr>\n",
       "    <tr>\n",
       "      <th>1</th>\n",
       "      <td>We love Nike in our house. And 100% support their campaign. My son wears Nike almost everyday. The quality of the clothes and shoes are outstanding. They last for a really long time. The airwick material drys fast. While it is a bit pricey but in this case you pay for what you get. I just recently bought a Nike bathing suit and its amazing. Very high quality compared to most bathing suits and its super cute. I would highly recommend. And will be buying again.</td>\n",
       "      <td>0.25010256410256415</td>\n",
       "      <td>0.5923333333333334</td>\n",
       "    </tr>\n",
       "    <tr>\n",
       "      <th>2</th>\n",
       "      <td>I like nike I really do however sometimes I feel like the quality has gone down some. I dont like to feel as if I'm just paying for a name I actually want good quality clothes if I'm spending a lot of money. Some shirts that I have just dont last and the shoes also seem to get run down quick. Their kids clothes seem to fair a lot better</td>\n",
       "      <td>0.2358024691358024</td>\n",
       "      <td>0.3827160493827161</td>\n",
       "    </tr>\n",
       "    <tr>\n",
       "      <th>3</th>\n",
       "      <td>Amo sus maletas, mochilas, tenis, short. Aunque sea deportivo, combina muy bien con algo casual ????</td>\n",
       "      <td>-0.25000000000000006</td>\n",
       "      <td>0.5833333333333334</td>\n",
       "    </tr>\n",
       "    <tr>\n",
       "      <th>4</th>\n",
       "      <td>No he has good things for kids women and men and they also have a good clearance rack if you really look</td>\n",
       "      <td>0.5333333333333333</td>\n",
       "      <td>0.46666666666666673</td>\n",
       "    </tr>\n",
       "  </tbody>\n",
       "</table>\n",
       "</div>"
      ],
      "text/plain": [
       "                                                                                                                                                                                                                                                                                                                                                                                                                                                                            Review  \\\n",
       "0  Nike ?? my favorite brand not only shoes , it has an excellent athletic products that i have been using .                                                                                                                                                                                                                                                                                                                                                                         \n",
       "1  We love Nike in our house. And 100% support their campaign. My son wears Nike almost everyday. The quality of the clothes and shoes are outstanding. They last for a really long time. The airwick material drys fast. While it is a bit pricey but in this case you pay for what you get. I just recently bought a Nike bathing suit and its amazing. Very high quality compared to most bathing suits and its super cute. I would highly recommend. And will be buying again.   \n",
       "2  I like nike I really do however sometimes I feel like the quality has gone down some. I dont like to feel as if I'm just paying for a name I actually want good quality clothes if I'm spending a lot of money. Some shirts that I have just dont last and the shoes also seem to get run down quick. Their kids clothes seem to fair a lot better                                                                                                                                \n",
       "3  Amo sus maletas, mochilas, tenis, short. Aunque sea deportivo, combina muy bien con algo casual ????                                                                                                                                                                                                                                                                                                                                                                              \n",
       "4  No he has good things for kids women and men and they also have a good clearance rack if you really look                                                                                                                                                                                                                                                                                                                                                                          \n",
       "\n",
       "                 p_sent          p_subj_score  \n",
       "0  0.5                    1.0                  \n",
       "1  0.25010256410256415    0.5923333333333334   \n",
       "2  0.2358024691358024     0.3827160493827161   \n",
       "3  -0.25000000000000006   0.5833333333333334   \n",
       "4  0.5333333333333333     0.46666666666666673  "
      ]
     },
     "execution_count": 188,
     "metadata": {},
     "output_type": "execute_result"
    }
   ],
   "source": [
    "#remove unnecessary column\n",
    "df2 = df2.drop('p_sent_score', 1)\n",
    "df2.head(5)"
   ]
  },
  {
   "cell_type": "code",
   "execution_count": 189,
   "metadata": {},
   "outputs": [],
   "source": [
    "#change pattern sentiment score to float\n",
    "df2['p_sent'] = df2['p_sent'].astype(float)"
   ]
  },
  {
   "cell_type": "code",
   "execution_count": 190,
   "metadata": {},
   "outputs": [
    {
     "data": {
      "text/plain": [
       "count    101.000000\n",
       "mean     0.319914  \n",
       "std      0.214610  \n",
       "min     -0.258519  \n",
       "25%      0.204040  \n",
       "50%      0.337500  \n",
       "75%      0.485000  \n",
       "max      0.800000  \n",
       "Name: p_sent, dtype: float64"
      ]
     },
     "execution_count": 190,
     "metadata": {},
     "output_type": "execute_result"
    }
   ],
   "source": [
    "#display descriptive statistics of pattern sentiment score\n",
    "df2['p_sent'].describe()"
   ]
  },
  {
   "cell_type": "markdown",
   "metadata": {},
   "source": [
    "#### The mean pattern sentiment score is .32, the minimum is -0.26, and the maximum is 0.80"
   ]
  },
  {
   "cell_type": "code",
   "execution_count": 191,
   "metadata": {},
   "outputs": [
    {
     "data": {
      "text/plain": [
       "<matplotlib.axes._subplots.AxesSubplot at 0x1d27f6f4cc0>"
      ]
     },
     "execution_count": 191,
     "metadata": {},
     "output_type": "execute_result"
    },
    {
     "data": {
      "image/png": "[encoded data removed]",
      "text/plain": [
       "<Figure size 432x288 with 1 Axes>"
      ]
     },
     "metadata": {
      "needs_background": "light"
     },
     "output_type": "display_data"
    }
   ],
   "source": [
    "#show pattern sentiment histogram\n",
    "df2['p_sent'].hist()"
   ]
  },
  {
   "cell_type": "markdown",
   "metadata": {},
   "source": [
    "#### Most pattern sentiment scores are between 0.175 and .58"
   ]
  },
  {
   "cell_type": "code",
   "execution_count": 192,
   "metadata": {},
   "outputs": [],
   "source": [
    "#change pattern subjectivity score to float\n",
    "df2['p_subj_score'] = df2['p_subj_score'].astype(float)"
   ]
  },
  {
   "cell_type": "code",
   "execution_count": 193,
   "metadata": {},
   "outputs": [
    {
     "data": {
      "text/plain": [
       "count    101.000000\n",
       "mean     0.594202  \n",
       "std      0.184303  \n",
       "min      0.000000  \n",
       "25%      0.483838  \n",
       "50%      0.612500  \n",
       "75%      0.700000  \n",
       "max      1.000000  \n",
       "Name: p_subj_score, dtype: float64"
      ]
     },
     "execution_count": 193,
     "metadata": {},
     "output_type": "execute_result"
    }
   ],
   "source": [
    "#display descriptive statistics of pattern subjectivity score\n",
    "df2['p_subj_score'].describe()"
   ]
  },
  {
   "cell_type": "markdown",
   "metadata": {},
   "source": [
    "#### The mean pattern subjectivity score is .59, the minimum is 0, and the maximum is 1."
   ]
  },
  {
   "cell_type": "code",
   "execution_count": 194,
   "metadata": {},
   "outputs": [
    {
     "data": {
      "text/plain": [
       "<matplotlib.axes._subplots.AxesSubplot at 0x1d27f6da748>"
      ]
     },
     "execution_count": 194,
     "metadata": {},
     "output_type": "execute_result"
    },
    {
     "data": {
      "image/png": "[encoded data removed]",
      "text/plain": [
       "<Figure size 432x288 with 1 Axes>"
      ]
     },
     "metadata": {
      "needs_background": "light"
     },
     "output_type": "display_data"
    }
   ],
   "source": [
    "#show pattern subjectivity histogram\n",
    "df2['p_subj_score'].hist()"
   ]
  },
  {
   "cell_type": "markdown",
   "metadata": {},
   "source": [
    "#### Most subjectivity scores are between 0.40 and 0.80"
   ]
  },
  {
   "cell_type": "markdown",
   "metadata": {},
   "source": [
    "# Section 7: Sentiment Analysis Vader"
   ]
  },
  {
   "cell_type": "code",
   "execution_count": 195,
   "metadata": {},
   "outputs": [
    {
     "data": {
      "text/html": [
       "<div>\n",
       "<style scoped>\n",
       "    .dataframe tbody tr th:only-of-type {\n",
       "        vertical-align: middle;\n",
       "    }\n",
       "\n",
       "    .dataframe tbody tr th {\n",
       "        vertical-align: top;\n",
       "    }\n",
       "\n",
       "    .dataframe thead th {\n",
       "        text-align: right;\n",
       "    }\n",
       "</style>\n",
       "<table border=\"1\" class=\"dataframe\">\n",
       "  <thead>\n",
       "    <tr style=\"text-align: right;\">\n",
       "      <th></th>\n",
       "      <th>Review</th>\n",
       "      <th>p_sent</th>\n",
       "      <th>p_subj_score</th>\n",
       "      <th>v_sent_score</th>\n",
       "    </tr>\n",
       "  </thead>\n",
       "  <tbody>\n",
       "    <tr>\n",
       "      <th>0</th>\n",
       "      <td>Nike ?? my favorite brand not only shoes , it has an excellent athletic products that i have been using .</td>\n",
       "      <td>0.500000</td>\n",
       "      <td>1.000000</td>\n",
       "      <td>0.7941</td>\n",
       "    </tr>\n",
       "    <tr>\n",
       "      <th>1</th>\n",
       "      <td>We love Nike in our house. And 100% support their campaign. My son wears Nike almost everyday. The quality of the clothes and shoes are outstanding. They last for a really long time. The airwick material drys fast. While it is a bit pricey but in this case you pay for what you get. I just recently bought a Nike bathing suit and its amazing. Very high quality compared to most bathing suits and its super cute. I would highly recommend. And will be buying again.</td>\n",
       "      <td>0.250103</td>\n",
       "      <td>0.592333</td>\n",
       "      <td>0.9766</td>\n",
       "    </tr>\n",
       "    <tr>\n",
       "      <th>2</th>\n",
       "      <td>I like nike I really do however sometimes I feel like the quality has gone down some. I dont like to feel as if I'm just paying for a name I actually want good quality clothes if I'm spending a lot of money. Some shirts that I have just dont last and the shoes also seem to get run down quick. Their kids clothes seem to fair a lot better</td>\n",
       "      <td>0.235802</td>\n",
       "      <td>0.382716</td>\n",
       "      <td>0.9313</td>\n",
       "    </tr>\n",
       "    <tr>\n",
       "      <th>3</th>\n",
       "      <td>Amo sus maletas, mochilas, tenis, short. Aunque sea deportivo, combina muy bien con algo casual ????</td>\n",
       "      <td>-0.250000</td>\n",
       "      <td>0.583333</td>\n",
       "      <td>0.4137</td>\n",
       "    </tr>\n",
       "    <tr>\n",
       "      <th>4</th>\n",
       "      <td>No he has good things for kids women and men and they also have a good clearance rack if you really look</td>\n",
       "      <td>0.533333</td>\n",
       "      <td>0.466667</td>\n",
       "      <td>0.5574</td>\n",
       "    </tr>\n",
       "  </tbody>\n",
       "</table>\n",
       "</div>"
      ],
      "text/plain": [
       "                                                                                                                                                                                                                                                                                                                                                                                                                                                                            Review  \\\n",
       "0  Nike ?? my favorite brand not only shoes , it has an excellent athletic products that i have been using .                                                                                                                                                                                                                                                                                                                                                                         \n",
       "1  We love Nike in our house. And 100% support their campaign. My son wears Nike almost everyday. The quality of the clothes and shoes are outstanding. They last for a really long time. The airwick material drys fast. While it is a bit pricey but in this case you pay for what you get. I just recently bought a Nike bathing suit and its amazing. Very high quality compared to most bathing suits and its super cute. I would highly recommend. And will be buying again.   \n",
       "2  I like nike I really do however sometimes I feel like the quality has gone down some. I dont like to feel as if I'm just paying for a name I actually want good quality clothes if I'm spending a lot of money. Some shirts that I have just dont last and the shoes also seem to get run down quick. Their kids clothes seem to fair a lot better                                                                                                                                \n",
       "3  Amo sus maletas, mochilas, tenis, short. Aunque sea deportivo, combina muy bien con algo casual ????                                                                                                                                                                                                                                                                                                                                                                              \n",
       "4  No he has good things for kids women and men and they also have a good clearance rack if you really look                                                                                                                                                                                                                                                                                                                                                                          \n",
       "\n",
       "     p_sent  p_subj_score  v_sent_score  \n",
       "0  0.500000  1.000000      0.7941        \n",
       "1  0.250103  0.592333      0.9766        \n",
       "2  0.235802  0.382716      0.9313        \n",
       "3 -0.250000  0.583333      0.4137        \n",
       "4  0.533333  0.466667      0.5574        "
      ]
     },
     "execution_count": 195,
     "metadata": {},
     "output_type": "execute_result"
    }
   ],
   "source": [
    "#create new sentiment score column\n",
    "df2['v_sent_score']=df2['Review'].apply(lambda x: vs.polarity_scores(x)['compound'])\n",
    "df2.head(5)"
   ]
  },
  {
   "cell_type": "code",
   "execution_count": 196,
   "metadata": {},
   "outputs": [
    {
     "data": {
      "text/plain": [
       "count    101.000000\n",
       "mean     0.687813  \n",
       "std      0.407128  \n",
       "min     -0.833400  \n",
       "25%      0.599400  \n",
       "50%      0.865800  \n",
       "75%      0.936300  \n",
       "max      0.988100  \n",
       "Name: v_sent_score, dtype: float64"
      ]
     },
     "execution_count": 196,
     "metadata": {},
     "output_type": "execute_result"
    }
   ],
   "source": [
    "#display descriptive statistics of vader sentiment score\n",
    "df2['v_sent_score'].describe()"
   ]
  },
  {
   "cell_type": "markdown",
   "metadata": {},
   "source": [
    "#### The mean vader sentiment score is 0.69, the minimum is -0.83, and the maximum is 0.99"
   ]
  },
  {
   "cell_type": "code",
   "execution_count": 197,
   "metadata": {},
   "outputs": [
    {
     "data": {
      "text/plain": [
       "<matplotlib.axes._subplots.AxesSubplot at 0x1d27f4e6b00>"
      ]
     },
     "execution_count": 197,
     "metadata": {},
     "output_type": "execute_result"
    },
    {
     "data": {
      "image/png": "[encoded data removed]",
      "text/plain": [
       "<Figure size 432x288 with 1 Axes>"
      ]
     },
     "metadata": {
      "needs_background": "light"
     },
     "output_type": "display_data"
    }
   ],
   "source": [
    "#show vader sentiment histogram\n",
    "df2['v_sent_score'].hist()"
   ]
  },
  {
   "cell_type": "markdown",
   "metadata": {},
   "source": [
    "#### Most reviews are between .75 and 1-very positive."
   ]
  },
  {
   "cell_type": "code",
   "execution_count": 198,
   "metadata": {},
   "outputs": [],
   "source": [
    "#change review column to string\n",
    "df2['Review'] = df2['Review'].astype(str)"
   ]
  },
  {
   "cell_type": "code",
   "execution_count": 201,
   "metadata": {},
   "outputs": [
    {
     "data": {
      "text/plain": [
       "0    nike favorite brand only shoes excellent athletic products that have been using                                                                                                                                                                                                                                                       \n",
       "1    love nike house support their campaign wears nike almost everyday quality clothes shoes outstanding they last really long time airwick material drys fast while pricey this case what just recently bought nike bathing suit amazing very high quality compared most bathing suits super cute would highly recommend will buying again\n",
       "2    like nike really however sometimes feel like quality gone down some dont like feel just paying name actually want good quality clothes spending money some shirts that have just dont last shoes also seem down quick their kids clothes seem fair better                                                                             \n",
       "3    maletas mochilas tenis short aunque deportivo combina bien algo casual                                                                                                                                                                                                                                                                \n",
       "4    good things kids women they also have good clearance rack really look                                                                                                                                                                                                                                                                 \n",
       "Name: Review, dtype: object"
      ]
     },
     "execution_count": 201,
     "metadata": {},
     "output_type": "execute_result"
    }
   ],
   "source": [
    "#clean reviews\n",
    "df2['Review'] = df2['Review'].str.lower()\n",
    "df2['Review']=df2['Review'].str.replace(r'(@\\w+)', ' ')\n",
    "df2['Review'] = df2['Review'].str.replace('http\\S+|www.\\S+', '')\n",
    "df2['Review']=df2.Review.str.replace('[^a-zA-Z]', ' ')\n",
    "df2['Review']=df2.Review.str.findall('\\w{4,}').str.join(' ')\n",
    "df2['Review']=df2.Review.str.replace('\\d+', '')\n",
    "df2['Review'].head(5)"
   ]
  },
  {
   "cell_type": "markdown",
   "metadata": {},
   "source": [
    "# Section 8: Word Frequency Analysis All Reviews"
   ]
  },
  {
   "cell_type": "code",
   "execution_count": 236,
   "metadata": {},
   "outputs": [
    {
     "data": {
      "text/plain": [
       "0    favorite brand shoes excellent athletic products that been using\n",
       "Name: Review, dtype: object"
      ]
     },
     "execution_count": 236,
     "metadata": {},
     "output_type": "execute_result"
    }
   ],
   "source": [
    "#remove stopwords\n",
    "stop =  ['take', 'make','like', 'even', 'would', 'really', 'first', 'much', 'made', 'well', 'ever', 'many', 'also', 'could', 'think', 'know', 'every', 'still', 'something', 'makes', 'look', 'thing', 'going', 'only', 'time', 'this', 'there', 'them', 'from', 'have', 'always', 'their', 'they', 'though', 'back', 'nike']\n",
    "df2['Review']=df2.Review.apply(lambda x: ' '.join([word for word in x.split() if word not in (stop)]))\n",
    "df2['Review'].head(1)"
   ]
  },
  {
   "cell_type": "code",
   "execution_count": 237,
   "metadata": {},
   "outputs": [],
   "source": [
    "#conduct word frequency analysis\n",
    "fdist = list(Counter(\" \".join(df2['Review']).split(\" \")).items())\n",
    "# convert to dataframe\n",
    "freq_word = []\n",
    "\n",
    "for k,v in fdist:\n",
    "    freq_word.append([k,v])\n",
    "\n",
    "\n",
    "wordlist = pd.DataFrame(freq_word)"
   ]
  },
  {
   "cell_type": "code",
   "execution_count": 238,
   "metadata": {},
   "outputs": [
    {
     "data": {
      "text/html": [
       "<div>\n",
       "<style scoped>\n",
       "    .dataframe tbody tr th:only-of-type {\n",
       "        vertical-align: middle;\n",
       "    }\n",
       "\n",
       "    .dataframe tbody tr th {\n",
       "        vertical-align: top;\n",
       "    }\n",
       "\n",
       "    .dataframe thead th {\n",
       "        text-align: right;\n",
       "    }\n",
       "</style>\n",
       "<table border=\"1\" class=\"dataframe\">\n",
       "  <thead>\n",
       "    <tr style=\"text-align: right;\">\n",
       "      <th></th>\n",
       "      <th>word</th>\n",
       "      <th>freq</th>\n",
       "    </tr>\n",
       "  </thead>\n",
       "  <tbody>\n",
       "    <tr>\n",
       "      <th>2</th>\n",
       "      <td>shoes</td>\n",
       "      <td>60</td>\n",
       "    </tr>\n",
       "    <tr>\n",
       "      <th>9</th>\n",
       "      <td>love</td>\n",
       "      <td>57</td>\n",
       "    </tr>\n",
       "    <tr>\n",
       "      <th>16</th>\n",
       "      <td>quality</td>\n",
       "      <td>42</td>\n",
       "    </tr>\n",
       "    <tr>\n",
       "      <th>87</th>\n",
       "      <td>comfortable</td>\n",
       "      <td>31</td>\n",
       "    </tr>\n",
       "    <tr>\n",
       "      <th>35</th>\n",
       "      <td>very</td>\n",
       "      <td>31</td>\n",
       "    </tr>\n",
       "    <tr>\n",
       "      <th>1</th>\n",
       "      <td>brand</td>\n",
       "      <td>28</td>\n",
       "    </tr>\n",
       "    <tr>\n",
       "      <th>58</th>\n",
       "      <td>good</td>\n",
       "      <td>26</td>\n",
       "    </tr>\n",
       "    <tr>\n",
       "      <th>6</th>\n",
       "      <td>that</td>\n",
       "      <td>26</td>\n",
       "    </tr>\n",
       "    <tr>\n",
       "      <th>84</th>\n",
       "      <td>great</td>\n",
       "      <td>23</td>\n",
       "    </tr>\n",
       "    <tr>\n",
       "      <th>88</th>\n",
       "      <td>wear</td>\n",
       "      <td>16</td>\n",
       "    </tr>\n",
       "    <tr>\n",
       "      <th>17</th>\n",
       "      <td>clothes</td>\n",
       "      <td>16</td>\n",
       "    </tr>\n",
       "    <tr>\n",
       "      <th>114</th>\n",
       "      <td>sneakers</td>\n",
       "      <td>15</td>\n",
       "    </tr>\n",
       "    <tr>\n",
       "      <th>83</th>\n",
       "      <td>clothing</td>\n",
       "      <td>15</td>\n",
       "    </tr>\n",
       "    <tr>\n",
       "      <th>0</th>\n",
       "      <td>favorite</td>\n",
       "      <td>15</td>\n",
       "    </tr>\n",
       "    <tr>\n",
       "      <th>85</th>\n",
       "      <td>leggings</td>\n",
       "      <td>13</td>\n",
       "    </tr>\n",
       "    <tr>\n",
       "      <th>5</th>\n",
       "      <td>products</td>\n",
       "      <td>13</td>\n",
       "    </tr>\n",
       "    <tr>\n",
       "      <th>19</th>\n",
       "      <td>last</td>\n",
       "      <td>13</td>\n",
       "    </tr>\n",
       "    <tr>\n",
       "      <th>43</th>\n",
       "      <td>recommend</td>\n",
       "      <td>13</td>\n",
       "    </tr>\n",
       "    <tr>\n",
       "      <th>95</th>\n",
       "      <td>with</td>\n",
       "      <td>12</td>\n",
       "    </tr>\n",
       "    <tr>\n",
       "      <th>29</th>\n",
       "      <td>just</td>\n",
       "      <td>12</td>\n",
       "    </tr>\n",
       "    <tr>\n",
       "      <th>252</th>\n",
       "      <td>expensive</td>\n",
       "      <td>12</td>\n",
       "    </tr>\n",
       "    <tr>\n",
       "      <th>117</th>\n",
       "      <td>shoe</td>\n",
       "      <td>11</td>\n",
       "    </tr>\n",
       "    <tr>\n",
       "      <th>207</th>\n",
       "      <td>running</td>\n",
       "      <td>11</td>\n",
       "    </tr>\n",
       "    <tr>\n",
       "      <th>34</th>\n",
       "      <td>amazing</td>\n",
       "      <td>10</td>\n",
       "    </tr>\n",
       "    <tr>\n",
       "      <th>7</th>\n",
       "      <td>been</td>\n",
       "      <td>10</td>\n",
       "    </tr>\n",
       "    <tr>\n",
       "      <th>81</th>\n",
       "      <td>pair</td>\n",
       "      <td>10</td>\n",
       "    </tr>\n",
       "    <tr>\n",
       "      <th>20</th>\n",
       "      <td>long</td>\n",
       "      <td>10</td>\n",
       "    </tr>\n",
       "    <tr>\n",
       "      <th>113</th>\n",
       "      <td>brands</td>\n",
       "      <td>10</td>\n",
       "    </tr>\n",
       "    <tr>\n",
       "      <th>36</th>\n",
       "      <td>high</td>\n",
       "      <td>9</td>\n",
       "    </tr>\n",
       "    <tr>\n",
       "      <th>217</th>\n",
       "      <td>when</td>\n",
       "      <td>9</td>\n",
       "    </tr>\n",
       "    <tr>\n",
       "      <th>286</th>\n",
       "      <td>never</td>\n",
       "      <td>9</td>\n",
       "    </tr>\n",
       "    <tr>\n",
       "      <th>52</th>\n",
       "      <td>some</td>\n",
       "      <td>9</td>\n",
       "    </tr>\n",
       "    <tr>\n",
       "      <th>44</th>\n",
       "      <td>will</td>\n",
       "      <td>8</td>\n",
       "    </tr>\n",
       "    <tr>\n",
       "      <th>40</th>\n",
       "      <td>super</td>\n",
       "      <td>8</td>\n",
       "    </tr>\n",
       "    <tr>\n",
       "      <th>15</th>\n",
       "      <td>everyday</td>\n",
       "      <td>8</td>\n",
       "    </tr>\n",
       "    <tr>\n",
       "      <th>99</th>\n",
       "      <td>workout</td>\n",
       "      <td>8</td>\n",
       "    </tr>\n",
       "    <tr>\n",
       "      <th>38</th>\n",
       "      <td>most</td>\n",
       "      <td>8</td>\n",
       "    </tr>\n",
       "    <tr>\n",
       "      <th>26</th>\n",
       "      <td>pricey</td>\n",
       "      <td>8</td>\n",
       "    </tr>\n",
       "    <tr>\n",
       "      <th>211</th>\n",
       "      <td>sports</td>\n",
       "      <td>8</td>\n",
       "    </tr>\n",
       "    <tr>\n",
       "      <th>135</th>\n",
       "      <td>trainers</td>\n",
       "      <td>8</td>\n",
       "    </tr>\n",
       "    <tr>\n",
       "      <th>82</th>\n",
       "      <td>years</td>\n",
       "      <td>8</td>\n",
       "    </tr>\n",
       "    <tr>\n",
       "      <th>141</th>\n",
       "      <td>items</td>\n",
       "      <td>8</td>\n",
       "    </tr>\n",
       "    <tr>\n",
       "      <th>281</th>\n",
       "      <td>worth</td>\n",
       "      <td>7</td>\n",
       "    </tr>\n",
       "    <tr>\n",
       "      <th>157</th>\n",
       "      <td>price</td>\n",
       "      <td>7</td>\n",
       "    </tr>\n",
       "    <tr>\n",
       "      <th>213</th>\n",
       "      <td>because</td>\n",
       "      <td>7</td>\n",
       "    </tr>\n",
       "    <tr>\n",
       "      <th>153</th>\n",
       "      <td>best</td>\n",
       "      <td>7</td>\n",
       "    </tr>\n",
       "    <tr>\n",
       "      <th>89</th>\n",
       "      <td>work</td>\n",
       "      <td>7</td>\n",
       "    </tr>\n",
       "    <tr>\n",
       "      <th>41</th>\n",
       "      <td>cute</td>\n",
       "      <td>7</td>\n",
       "    </tr>\n",
       "    <tr>\n",
       "      <th>28</th>\n",
       "      <td>what</td>\n",
       "      <td>6</td>\n",
       "    </tr>\n",
       "    <tr>\n",
       "      <th>104</th>\n",
       "      <td>sport</td>\n",
       "      <td>6</td>\n",
       "    </tr>\n",
       "  </tbody>\n",
       "</table>\n",
       "</div>"
      ],
      "text/plain": [
       "            word  freq\n",
       "2    shoes        60  \n",
       "9    love         57  \n",
       "16   quality      42  \n",
       "87   comfortable  31  \n",
       "35   very         31  \n",
       "1    brand        28  \n",
       "58   good         26  \n",
       "6    that         26  \n",
       "84   great        23  \n",
       "88   wear         16  \n",
       "17   clothes      16  \n",
       "114  sneakers     15  \n",
       "83   clothing     15  \n",
       "0    favorite     15  \n",
       "85   leggings     13  \n",
       "5    products     13  \n",
       "19   last         13  \n",
       "43   recommend    13  \n",
       "95   with         12  \n",
       "29   just         12  \n",
       "252  expensive    12  \n",
       "117  shoe         11  \n",
       "207  running      11  \n",
       "34   amazing      10  \n",
       "7    been         10  \n",
       "81   pair         10  \n",
       "20   long         10  \n",
       "113  brands       10  \n",
       "36   high         9   \n",
       "217  when         9   \n",
       "286  never        9   \n",
       "52   some         9   \n",
       "44   will         8   \n",
       "40   super        8   \n",
       "15   everyday     8   \n",
       "99   workout      8   \n",
       "38   most         8   \n",
       "26   pricey       8   \n",
       "211  sports       8   \n",
       "135  trainers     8   \n",
       "82   years        8   \n",
       "141  items        8   \n",
       "281  worth        7   \n",
       "157  price        7   \n",
       "213  because      7   \n",
       "153  best         7   \n",
       "89   work         7   \n",
       "41   cute         7   \n",
       "28   what         6   \n",
       "104  sport        6   "
      ]
     },
     "execution_count": 238,
     "metadata": {},
     "output_type": "execute_result"
    }
   ],
   "source": [
    "#rename columns and list words by greatest frequency\n",
    "wordlist = wordlist.rename(columns={0: 'word', 1: 'freq'})\n",
    "wordlist.reset_index(drop=True, inplace=True)\n",
    "wordlist.sort_values(by='freq', ascending=False).head(50)"
   ]
  },
  {
   "cell_type": "code",
   "execution_count": 248,
   "metadata": {},
   "outputs": [],
   "source": [
    "#create a list of most frequent words to plot\n",
    "word_plot=wordlist.sort_values('freq',ascending=False)\n",
    "word_plot=word_plot.head(25)"
   ]
  },
  {
   "cell_type": "code",
   "execution_count": 249,
   "metadata": {},
   "outputs": [
    {
     "data": {
      "image/png": "[encoded data removed]",
      "text/plain": [
       "<Figure size 1440x720 with 1 Axes>"
      ]
     },
     "metadata": {
      "needs_background": "light"
     },
     "output_type": "display_data"
    }
   ],
   "source": [
    "#plot most frequent words\n",
    "import matplotlib.pyplot as plt\n",
    "import numpy as np\n",
    "x=word_plot['word']\n",
    "y=word_plot['freq']\n",
    "plt.figure(figsize=(20,10))\n",
    "plt.plot(x,y)\n",
    "plt.show()"
   ]
  },
  {
   "cell_type": "code",
   "execution_count": 250,
   "metadata": {},
   "outputs": [],
   "source": [
    "#create a list of bigrams\n",
    "bigrams = nltk.bigrams(\" \".join(df2['Review']).split(\" \"))\n",
    "#compute frequency distribution for all the bigrams in the text\n",
    "fdist_bi = nltk.FreqDist(bigrams)"
   ]
  },
  {
   "cell_type": "code",
   "execution_count": 251,
   "metadata": {},
   "outputs": [
    {
     "data": {
      "image/png": "[encoded data removed]",
      "text/plain": [
       "<Figure size 864x432 with 1 Axes>"
      ]
     },
     "metadata": {
      "needs_background": "light"
     },
     "output_type": "display_data"
    }
   ],
   "source": [
    "#plot bigrams\n",
    "plt.figure(figsize=(12,6))\n",
    "fdist_bi.plot(50)"
   ]
  },
  {
   "cell_type": "code",
   "execution_count": 256,
   "metadata": {},
   "outputs": [
    {
     "data": {
      "text/plain": [
       "(-0.5, 399.5, 199.5, -0.5)"
      ]
     },
     "execution_count": 256,
     "metadata": {},
     "output_type": "execute_result"
    },
    {
     "data": {
      "image/png": "[encoded data removed]",
      "text/plain": [
       "<Figure size 720x720 with 1 Axes>"
      ]
     },
     "metadata": {
      "needs_background": "light"
     },
     "output_type": "display_data"
    }
   ],
   "source": [
    "#create a word cloud\n",
    "from os import path\n",
    "from wordcloud import WordCloud, STOPWORDS\n",
    "import matplotlib.pyplot as plt\n",
    "%matplotlib inline\n",
    "\n",
    "\n",
    "stopwords = set(STOPWORDS)\n",
    "stopwords.add(\"nike\")\n",
    "\n",
    "wordcloud = WordCloud(max_font_size=40, relative_scaling=.5, stopwords=stopwords).generate(' '.join(df2['Review']))\n",
    "plt.figure(figsize=(10,10))\n",
    "plt.imshow(wordcloud)\n",
    "plt.axis(\"off\")"
   ]
  },
  {
   "cell_type": "markdown",
   "metadata": {},
   "source": [
    "# Star Ratings from Reviews"
   ]
  },
  {
   "cell_type": "code",
   "execution_count": 275,
   "metadata": {},
   "outputs": [
    {
     "data": {
      "text/html": [
       "<div>\n",
       "<style scoped>\n",
       "    .dataframe tbody tr th:only-of-type {\n",
       "        vertical-align: middle;\n",
       "    }\n",
       "\n",
       "    .dataframe tbody tr th {\n",
       "        vertical-align: top;\n",
       "    }\n",
       "\n",
       "    .dataframe thead th {\n",
       "        text-align: right;\n",
       "    }\n",
       "</style>\n",
       "<table border=\"1\" class=\"dataframe\">\n",
       "  <thead>\n",
       "    <tr style=\"text-align: right;\">\n",
       "      <th></th>\n",
       "      <th>0</th>\n",
       "    </tr>\n",
       "  </thead>\n",
       "  <tbody>\n",
       "    <tr>\n",
       "      <th>0</th>\n",
       "      <td>5</td>\n",
       "    </tr>\n",
       "    <tr>\n",
       "      <th>1</th>\n",
       "      <td>none</td>\n",
       "    </tr>\n",
       "    <tr>\n",
       "      <th>2</th>\n",
       "      <td>4</td>\n",
       "    </tr>\n",
       "    <tr>\n",
       "      <th>3</th>\n",
       "      <td>5</td>\n",
       "    </tr>\n",
       "    <tr>\n",
       "      <th>4</th>\n",
       "      <td>5</td>\n",
       "    </tr>\n",
       "  </tbody>\n",
       "</table>\n",
       "</div>"
      ],
      "text/plain": [
       "      0\n",
       "0  5   \n",
       "1  none\n",
       "2  4   \n",
       "3  5   \n",
       "4  5   "
      ]
     },
     "execution_count": 275,
     "metadata": {},
     "output_type": "execute_result"
    }
   ],
   "source": [
    "# import text data (csv) as a dataframe\n",
    "\n",
    "import re\n",
    "import pandas as pd\n",
    "\n",
    "import nltk\n",
    "from nltk.corpus import stopwords\n",
    "\n",
    "df3 = pd.read_csv(\"nike_reviews2.csv\", header=None)\n",
    "df3.head(5)"
   ]
  },
  {
   "cell_type": "markdown",
   "metadata": {},
   "source": [
    "#### Average Star rating on reviews was a whopping 4.70 out of 5 "
   ]
  },
  {
   "cell_type": "markdown",
   "metadata": {},
   "source": [
    "# Section 9: Storytelling"
   ]
  },
  {
   "attachments": {},
   "cell_type": "markdown",
   "metadata": {},
   "source": [
    "Nike’s main use for Twitter is for Customer Interactions & Advertising. They offer a wide variety of products, but their shoes are still the most talked about. Reviews are very positive towards Nike; customers love their products and this should be something that Nike should be proud of. However, with a larger set of data, ranging over multiple sources, Nike could be able to better define what products give their customers the highest satisfaction, while also learning what they need to improve upon! By using different sources of data, some potential biases could be eliminated in the process (some websites could be paid by Nike to have positive reviews). More sources will allow for a better data analysis and more insights could be drawn from the data. "
   ]
  },
  {
   "cell_type": "markdown",
   "metadata": {},
   "source": [
    "We found it interesting that no known Athletes appeared during our Twitter analysis. With so many players now-a-days being sponsored by Nike, we thought that some potential athletes would Tweet or Retweet stuff about Nike more frequently (that wasn't the case). "
   ]
  },
  {
   "cell_type": "markdown",
   "metadata": {},
   "source": [
    "We thought that the Bigrams were some of the most important pieces of information because it gave insights to how the customers felt about Nike. Having a much bigger data set would be useful to further advance the accuracy of these Bigrams."
   ]
  }
 ],
 "metadata": {
  "kernelspec": {
   "display_name": "Python 3",
   "language": "python",
   "name": "python3"
  },
  "language_info": {
   "codemirror_mode": {
    "name": "ipython",
    "version": 3
   },
   "file_extension": ".py",
   "mimetype": "text/x-python",
   "name": "python",
   "nbconvert_exporter": "python",
   "pygments_lexer": "ipython3",
   "version": "3.7.1"
  }
 },
 "nbformat": 4,
 "nbformat_minor": 2
}
